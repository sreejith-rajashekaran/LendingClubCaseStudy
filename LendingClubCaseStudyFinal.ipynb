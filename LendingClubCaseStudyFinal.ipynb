{
 "cells": [
  {
   "cell_type": "markdown",
   "id": "82642e8d",
   "metadata": {},
   "source": [
    "# Lending Club Case Study"
   ]
  },
  {
   "cell_type": "markdown",
   "id": "4691908c",
   "metadata": {},
   "source": [
    "## Import libraries\n",
    "\n",
    "Importing the necessary libraries for performing Exploratory Data Analysis"
   ]
  },
  {
   "cell_type": "code",
   "execution_count": 29,
   "id": "945e154e",
   "metadata": {},
   "outputs": [],
   "source": [
    "import numpy as np\n",
    "import pandas as pd\n",
    "import matplotlib.pyplot as plt\n",
    "import seaborn as sns"
   ]
  },
  {
   "cell_type": "markdown",
   "id": "d836f024",
   "metadata": {},
   "source": [
    "## Data Visualization \n",
    "\n",
    "With any data, the first step would be to visualize the data and understand the content. Try to get a gist of the fields present, data present, cleansing requirements and so on."
   ]
  },
  {
   "cell_type": "markdown",
   "id": "342ac003",
   "metadata": {},
   "source": [
    "## Uploading the data\n",
    "\n",
    "Upload the data into the pandas dataframe for performing all analysis"
   ]
  },
  {
   "cell_type": "code",
   "execution_count": 30,
   "id": "ec9c87f1",
   "metadata": {
    "scrolled": true
   },
   "outputs": [
    {
     "name": "stderr",
     "output_type": "stream",
     "text": [
      "/var/folders/cq/3_v0kxk56d79810f6w5gbnkr0000gn/T/ipykernel_25968/2955158840.py:1: DtypeWarning: Columns (47) have mixed types. Specify dtype option on import or set low_memory=False.\n",
      "  data_set = pd.read_csv(\"loan.csv\")\n"
     ]
    },
    {
     "data": {
      "text/html": [
       "<div>\n",
       "<style scoped>\n",
       "    .dataframe tbody tr th:only-of-type {\n",
       "        vertical-align: middle;\n",
       "    }\n",
       "\n",
       "    .dataframe tbody tr th {\n",
       "        vertical-align: top;\n",
       "    }\n",
       "\n",
       "    .dataframe thead th {\n",
       "        text-align: right;\n",
       "    }\n",
       "</style>\n",
       "<table border=\"1\" class=\"dataframe\">\n",
       "  <thead>\n",
       "    <tr style=\"text-align: right;\">\n",
       "      <th></th>\n",
       "      <th>id</th>\n",
       "      <th>member_id</th>\n",
       "      <th>loan_amnt</th>\n",
       "      <th>funded_amnt</th>\n",
       "      <th>funded_amnt_inv</th>\n",
       "      <th>term</th>\n",
       "      <th>int_rate</th>\n",
       "      <th>installment</th>\n",
       "      <th>grade</th>\n",
       "      <th>sub_grade</th>\n",
       "      <th>...</th>\n",
       "      <th>num_tl_90g_dpd_24m</th>\n",
       "      <th>num_tl_op_past_12m</th>\n",
       "      <th>pct_tl_nvr_dlq</th>\n",
       "      <th>percent_bc_gt_75</th>\n",
       "      <th>pub_rec_bankruptcies</th>\n",
       "      <th>tax_liens</th>\n",
       "      <th>tot_hi_cred_lim</th>\n",
       "      <th>total_bal_ex_mort</th>\n",
       "      <th>total_bc_limit</th>\n",
       "      <th>total_il_high_credit_limit</th>\n",
       "    </tr>\n",
       "  </thead>\n",
       "  <tbody>\n",
       "    <tr>\n",
       "      <th>0</th>\n",
       "      <td>1077501</td>\n",
       "      <td>1296599</td>\n",
       "      <td>5000</td>\n",
       "      <td>5000</td>\n",
       "      <td>4975.0</td>\n",
       "      <td>36 months</td>\n",
       "      <td>10.65%</td>\n",
       "      <td>162.87</td>\n",
       "      <td>B</td>\n",
       "      <td>B2</td>\n",
       "      <td>...</td>\n",
       "      <td>NaN</td>\n",
       "      <td>NaN</td>\n",
       "      <td>NaN</td>\n",
       "      <td>NaN</td>\n",
       "      <td>0.0</td>\n",
       "      <td>0.0</td>\n",
       "      <td>NaN</td>\n",
       "      <td>NaN</td>\n",
       "      <td>NaN</td>\n",
       "      <td>NaN</td>\n",
       "    </tr>\n",
       "    <tr>\n",
       "      <th>1</th>\n",
       "      <td>1077430</td>\n",
       "      <td>1314167</td>\n",
       "      <td>2500</td>\n",
       "      <td>2500</td>\n",
       "      <td>2500.0</td>\n",
       "      <td>60 months</td>\n",
       "      <td>15.27%</td>\n",
       "      <td>59.83</td>\n",
       "      <td>C</td>\n",
       "      <td>C4</td>\n",
       "      <td>...</td>\n",
       "      <td>NaN</td>\n",
       "      <td>NaN</td>\n",
       "      <td>NaN</td>\n",
       "      <td>NaN</td>\n",
       "      <td>0.0</td>\n",
       "      <td>0.0</td>\n",
       "      <td>NaN</td>\n",
       "      <td>NaN</td>\n",
       "      <td>NaN</td>\n",
       "      <td>NaN</td>\n",
       "    </tr>\n",
       "    <tr>\n",
       "      <th>2</th>\n",
       "      <td>1077175</td>\n",
       "      <td>1313524</td>\n",
       "      <td>2400</td>\n",
       "      <td>2400</td>\n",
       "      <td>2400.0</td>\n",
       "      <td>36 months</td>\n",
       "      <td>15.96%</td>\n",
       "      <td>84.33</td>\n",
       "      <td>C</td>\n",
       "      <td>C5</td>\n",
       "      <td>...</td>\n",
       "      <td>NaN</td>\n",
       "      <td>NaN</td>\n",
       "      <td>NaN</td>\n",
       "      <td>NaN</td>\n",
       "      <td>0.0</td>\n",
       "      <td>0.0</td>\n",
       "      <td>NaN</td>\n",
       "      <td>NaN</td>\n",
       "      <td>NaN</td>\n",
       "      <td>NaN</td>\n",
       "    </tr>\n",
       "    <tr>\n",
       "      <th>3</th>\n",
       "      <td>1076863</td>\n",
       "      <td>1277178</td>\n",
       "      <td>10000</td>\n",
       "      <td>10000</td>\n",
       "      <td>10000.0</td>\n",
       "      <td>36 months</td>\n",
       "      <td>13.49%</td>\n",
       "      <td>339.31</td>\n",
       "      <td>C</td>\n",
       "      <td>C1</td>\n",
       "      <td>...</td>\n",
       "      <td>NaN</td>\n",
       "      <td>NaN</td>\n",
       "      <td>NaN</td>\n",
       "      <td>NaN</td>\n",
       "      <td>0.0</td>\n",
       "      <td>0.0</td>\n",
       "      <td>NaN</td>\n",
       "      <td>NaN</td>\n",
       "      <td>NaN</td>\n",
       "      <td>NaN</td>\n",
       "    </tr>\n",
       "    <tr>\n",
       "      <th>4</th>\n",
       "      <td>1075358</td>\n",
       "      <td>1311748</td>\n",
       "      <td>3000</td>\n",
       "      <td>3000</td>\n",
       "      <td>3000.0</td>\n",
       "      <td>60 months</td>\n",
       "      <td>12.69%</td>\n",
       "      <td>67.79</td>\n",
       "      <td>B</td>\n",
       "      <td>B5</td>\n",
       "      <td>...</td>\n",
       "      <td>NaN</td>\n",
       "      <td>NaN</td>\n",
       "      <td>NaN</td>\n",
       "      <td>NaN</td>\n",
       "      <td>0.0</td>\n",
       "      <td>0.0</td>\n",
       "      <td>NaN</td>\n",
       "      <td>NaN</td>\n",
       "      <td>NaN</td>\n",
       "      <td>NaN</td>\n",
       "    </tr>\n",
       "    <tr>\n",
       "      <th>5</th>\n",
       "      <td>1075269</td>\n",
       "      <td>1311441</td>\n",
       "      <td>5000</td>\n",
       "      <td>5000</td>\n",
       "      <td>5000.0</td>\n",
       "      <td>36 months</td>\n",
       "      <td>7.90%</td>\n",
       "      <td>156.46</td>\n",
       "      <td>A</td>\n",
       "      <td>A4</td>\n",
       "      <td>...</td>\n",
       "      <td>NaN</td>\n",
       "      <td>NaN</td>\n",
       "      <td>NaN</td>\n",
       "      <td>NaN</td>\n",
       "      <td>0.0</td>\n",
       "      <td>0.0</td>\n",
       "      <td>NaN</td>\n",
       "      <td>NaN</td>\n",
       "      <td>NaN</td>\n",
       "      <td>NaN</td>\n",
       "    </tr>\n",
       "    <tr>\n",
       "      <th>6</th>\n",
       "      <td>1069639</td>\n",
       "      <td>1304742</td>\n",
       "      <td>7000</td>\n",
       "      <td>7000</td>\n",
       "      <td>7000.0</td>\n",
       "      <td>60 months</td>\n",
       "      <td>15.96%</td>\n",
       "      <td>170.08</td>\n",
       "      <td>C</td>\n",
       "      <td>C5</td>\n",
       "      <td>...</td>\n",
       "      <td>NaN</td>\n",
       "      <td>NaN</td>\n",
       "      <td>NaN</td>\n",
       "      <td>NaN</td>\n",
       "      <td>0.0</td>\n",
       "      <td>0.0</td>\n",
       "      <td>NaN</td>\n",
       "      <td>NaN</td>\n",
       "      <td>NaN</td>\n",
       "      <td>NaN</td>\n",
       "    </tr>\n",
       "    <tr>\n",
       "      <th>7</th>\n",
       "      <td>1072053</td>\n",
       "      <td>1288686</td>\n",
       "      <td>3000</td>\n",
       "      <td>3000</td>\n",
       "      <td>3000.0</td>\n",
       "      <td>36 months</td>\n",
       "      <td>18.64%</td>\n",
       "      <td>109.43</td>\n",
       "      <td>E</td>\n",
       "      <td>E1</td>\n",
       "      <td>...</td>\n",
       "      <td>NaN</td>\n",
       "      <td>NaN</td>\n",
       "      <td>NaN</td>\n",
       "      <td>NaN</td>\n",
       "      <td>0.0</td>\n",
       "      <td>0.0</td>\n",
       "      <td>NaN</td>\n",
       "      <td>NaN</td>\n",
       "      <td>NaN</td>\n",
       "      <td>NaN</td>\n",
       "    </tr>\n",
       "    <tr>\n",
       "      <th>8</th>\n",
       "      <td>1071795</td>\n",
       "      <td>1306957</td>\n",
       "      <td>5600</td>\n",
       "      <td>5600</td>\n",
       "      <td>5600.0</td>\n",
       "      <td>60 months</td>\n",
       "      <td>21.28%</td>\n",
       "      <td>152.39</td>\n",
       "      <td>F</td>\n",
       "      <td>F2</td>\n",
       "      <td>...</td>\n",
       "      <td>NaN</td>\n",
       "      <td>NaN</td>\n",
       "      <td>NaN</td>\n",
       "      <td>NaN</td>\n",
       "      <td>0.0</td>\n",
       "      <td>0.0</td>\n",
       "      <td>NaN</td>\n",
       "      <td>NaN</td>\n",
       "      <td>NaN</td>\n",
       "      <td>NaN</td>\n",
       "    </tr>\n",
       "    <tr>\n",
       "      <th>9</th>\n",
       "      <td>1071570</td>\n",
       "      <td>1306721</td>\n",
       "      <td>5375</td>\n",
       "      <td>5375</td>\n",
       "      <td>5350.0</td>\n",
       "      <td>60 months</td>\n",
       "      <td>12.69%</td>\n",
       "      <td>121.45</td>\n",
       "      <td>B</td>\n",
       "      <td>B5</td>\n",
       "      <td>...</td>\n",
       "      <td>NaN</td>\n",
       "      <td>NaN</td>\n",
       "      <td>NaN</td>\n",
       "      <td>NaN</td>\n",
       "      <td>0.0</td>\n",
       "      <td>0.0</td>\n",
       "      <td>NaN</td>\n",
       "      <td>NaN</td>\n",
       "      <td>NaN</td>\n",
       "      <td>NaN</td>\n",
       "    </tr>\n",
       "  </tbody>\n",
       "</table>\n",
       "<p>10 rows × 111 columns</p>\n",
       "</div>"
      ],
      "text/plain": [
       "        id  member_id  loan_amnt  funded_amnt  funded_amnt_inv        term  \\\n",
       "0  1077501    1296599       5000         5000           4975.0   36 months   \n",
       "1  1077430    1314167       2500         2500           2500.0   60 months   \n",
       "2  1077175    1313524       2400         2400           2400.0   36 months   \n",
       "3  1076863    1277178      10000        10000          10000.0   36 months   \n",
       "4  1075358    1311748       3000         3000           3000.0   60 months   \n",
       "5  1075269    1311441       5000         5000           5000.0   36 months   \n",
       "6  1069639    1304742       7000         7000           7000.0   60 months   \n",
       "7  1072053    1288686       3000         3000           3000.0   36 months   \n",
       "8  1071795    1306957       5600         5600           5600.0   60 months   \n",
       "9  1071570    1306721       5375         5375           5350.0   60 months   \n",
       "\n",
       "  int_rate  installment grade sub_grade  ... num_tl_90g_dpd_24m  \\\n",
       "0   10.65%       162.87     B        B2  ...                NaN   \n",
       "1   15.27%        59.83     C        C4  ...                NaN   \n",
       "2   15.96%        84.33     C        C5  ...                NaN   \n",
       "3   13.49%       339.31     C        C1  ...                NaN   \n",
       "4   12.69%        67.79     B        B5  ...                NaN   \n",
       "5    7.90%       156.46     A        A4  ...                NaN   \n",
       "6   15.96%       170.08     C        C5  ...                NaN   \n",
       "7   18.64%       109.43     E        E1  ...                NaN   \n",
       "8   21.28%       152.39     F        F2  ...                NaN   \n",
       "9   12.69%       121.45     B        B5  ...                NaN   \n",
       "\n",
       "  num_tl_op_past_12m pct_tl_nvr_dlq  percent_bc_gt_75 pub_rec_bankruptcies  \\\n",
       "0                NaN            NaN               NaN                  0.0   \n",
       "1                NaN            NaN               NaN                  0.0   \n",
       "2                NaN            NaN               NaN                  0.0   \n",
       "3                NaN            NaN               NaN                  0.0   \n",
       "4                NaN            NaN               NaN                  0.0   \n",
       "5                NaN            NaN               NaN                  0.0   \n",
       "6                NaN            NaN               NaN                  0.0   \n",
       "7                NaN            NaN               NaN                  0.0   \n",
       "8                NaN            NaN               NaN                  0.0   \n",
       "9                NaN            NaN               NaN                  0.0   \n",
       "\n",
       "  tax_liens tot_hi_cred_lim total_bal_ex_mort total_bc_limit  \\\n",
       "0       0.0             NaN               NaN            NaN   \n",
       "1       0.0             NaN               NaN            NaN   \n",
       "2       0.0             NaN               NaN            NaN   \n",
       "3       0.0             NaN               NaN            NaN   \n",
       "4       0.0             NaN               NaN            NaN   \n",
       "5       0.0             NaN               NaN            NaN   \n",
       "6       0.0             NaN               NaN            NaN   \n",
       "7       0.0             NaN               NaN            NaN   \n",
       "8       0.0             NaN               NaN            NaN   \n",
       "9       0.0             NaN               NaN            NaN   \n",
       "\n",
       "  total_il_high_credit_limit  \n",
       "0                        NaN  \n",
       "1                        NaN  \n",
       "2                        NaN  \n",
       "3                        NaN  \n",
       "4                        NaN  \n",
       "5                        NaN  \n",
       "6                        NaN  \n",
       "7                        NaN  \n",
       "8                        NaN  \n",
       "9                        NaN  \n",
       "\n",
       "[10 rows x 111 columns]"
      ]
     },
     "execution_count": 30,
     "metadata": {},
     "output_type": "execute_result"
    }
   ],
   "source": [
    "data_set = pd.read_csv(\"loan.csv\")\n",
    "data_set.head(10)"
   ]
  },
  {
   "cell_type": "markdown",
   "id": "cd140d2c",
   "metadata": {},
   "source": [
    "## Describe the data \n",
    "\n",
    "Use the commands like describe, shape command to understand the field analytics"
   ]
  },
  {
   "cell_type": "code",
   "execution_count": 31,
   "id": "af708c9e",
   "metadata": {},
   "outputs": [
    {
     "data": {
      "text/html": [
       "<div>\n",
       "<style scoped>\n",
       "    .dataframe tbody tr th:only-of-type {\n",
       "        vertical-align: middle;\n",
       "    }\n",
       "\n",
       "    .dataframe tbody tr th {\n",
       "        vertical-align: top;\n",
       "    }\n",
       "\n",
       "    .dataframe thead th {\n",
       "        text-align: right;\n",
       "    }\n",
       "</style>\n",
       "<table border=\"1\" class=\"dataframe\">\n",
       "  <thead>\n",
       "    <tr style=\"text-align: right;\">\n",
       "      <th></th>\n",
       "      <th>id</th>\n",
       "      <th>member_id</th>\n",
       "      <th>loan_amnt</th>\n",
       "      <th>funded_amnt</th>\n",
       "      <th>funded_amnt_inv</th>\n",
       "      <th>installment</th>\n",
       "      <th>annual_inc</th>\n",
       "      <th>dti</th>\n",
       "      <th>delinq_2yrs</th>\n",
       "      <th>inq_last_6mths</th>\n",
       "      <th>...</th>\n",
       "      <th>num_tl_90g_dpd_24m</th>\n",
       "      <th>num_tl_op_past_12m</th>\n",
       "      <th>pct_tl_nvr_dlq</th>\n",
       "      <th>percent_bc_gt_75</th>\n",
       "      <th>pub_rec_bankruptcies</th>\n",
       "      <th>tax_liens</th>\n",
       "      <th>tot_hi_cred_lim</th>\n",
       "      <th>total_bal_ex_mort</th>\n",
       "      <th>total_bc_limit</th>\n",
       "      <th>total_il_high_credit_limit</th>\n",
       "    </tr>\n",
       "  </thead>\n",
       "  <tbody>\n",
       "    <tr>\n",
       "      <th>count</th>\n",
       "      <td>3.971700e+04</td>\n",
       "      <td>3.971700e+04</td>\n",
       "      <td>39717.000000</td>\n",
       "      <td>39717.000000</td>\n",
       "      <td>39717.000000</td>\n",
       "      <td>39717.000000</td>\n",
       "      <td>3.971700e+04</td>\n",
       "      <td>39717.000000</td>\n",
       "      <td>39717.000000</td>\n",
       "      <td>39717.000000</td>\n",
       "      <td>...</td>\n",
       "      <td>0.0</td>\n",
       "      <td>0.0</td>\n",
       "      <td>0.0</td>\n",
       "      <td>0.0</td>\n",
       "      <td>39020.000000</td>\n",
       "      <td>39678.0</td>\n",
       "      <td>0.0</td>\n",
       "      <td>0.0</td>\n",
       "      <td>0.0</td>\n",
       "      <td>0.0</td>\n",
       "    </tr>\n",
       "    <tr>\n",
       "      <th>mean</th>\n",
       "      <td>6.831319e+05</td>\n",
       "      <td>8.504636e+05</td>\n",
       "      <td>11219.443815</td>\n",
       "      <td>10947.713196</td>\n",
       "      <td>10397.448868</td>\n",
       "      <td>324.561922</td>\n",
       "      <td>6.896893e+04</td>\n",
       "      <td>13.315130</td>\n",
       "      <td>0.146512</td>\n",
       "      <td>0.869200</td>\n",
       "      <td>...</td>\n",
       "      <td>NaN</td>\n",
       "      <td>NaN</td>\n",
       "      <td>NaN</td>\n",
       "      <td>NaN</td>\n",
       "      <td>0.043260</td>\n",
       "      <td>0.0</td>\n",
       "      <td>NaN</td>\n",
       "      <td>NaN</td>\n",
       "      <td>NaN</td>\n",
       "      <td>NaN</td>\n",
       "    </tr>\n",
       "    <tr>\n",
       "      <th>std</th>\n",
       "      <td>2.106941e+05</td>\n",
       "      <td>2.656783e+05</td>\n",
       "      <td>7456.670694</td>\n",
       "      <td>7187.238670</td>\n",
       "      <td>7128.450439</td>\n",
       "      <td>208.874874</td>\n",
       "      <td>6.379377e+04</td>\n",
       "      <td>6.678594</td>\n",
       "      <td>0.491812</td>\n",
       "      <td>1.070219</td>\n",
       "      <td>...</td>\n",
       "      <td>NaN</td>\n",
       "      <td>NaN</td>\n",
       "      <td>NaN</td>\n",
       "      <td>NaN</td>\n",
       "      <td>0.204324</td>\n",
       "      <td>0.0</td>\n",
       "      <td>NaN</td>\n",
       "      <td>NaN</td>\n",
       "      <td>NaN</td>\n",
       "      <td>NaN</td>\n",
       "    </tr>\n",
       "    <tr>\n",
       "      <th>min</th>\n",
       "      <td>5.473400e+04</td>\n",
       "      <td>7.069900e+04</td>\n",
       "      <td>500.000000</td>\n",
       "      <td>500.000000</td>\n",
       "      <td>0.000000</td>\n",
       "      <td>15.690000</td>\n",
       "      <td>4.000000e+03</td>\n",
       "      <td>0.000000</td>\n",
       "      <td>0.000000</td>\n",
       "      <td>0.000000</td>\n",
       "      <td>...</td>\n",
       "      <td>NaN</td>\n",
       "      <td>NaN</td>\n",
       "      <td>NaN</td>\n",
       "      <td>NaN</td>\n",
       "      <td>0.000000</td>\n",
       "      <td>0.0</td>\n",
       "      <td>NaN</td>\n",
       "      <td>NaN</td>\n",
       "      <td>NaN</td>\n",
       "      <td>NaN</td>\n",
       "    </tr>\n",
       "    <tr>\n",
       "      <th>25%</th>\n",
       "      <td>5.162210e+05</td>\n",
       "      <td>6.667800e+05</td>\n",
       "      <td>5500.000000</td>\n",
       "      <td>5400.000000</td>\n",
       "      <td>5000.000000</td>\n",
       "      <td>167.020000</td>\n",
       "      <td>4.040400e+04</td>\n",
       "      <td>8.170000</td>\n",
       "      <td>0.000000</td>\n",
       "      <td>0.000000</td>\n",
       "      <td>...</td>\n",
       "      <td>NaN</td>\n",
       "      <td>NaN</td>\n",
       "      <td>NaN</td>\n",
       "      <td>NaN</td>\n",
       "      <td>0.000000</td>\n",
       "      <td>0.0</td>\n",
       "      <td>NaN</td>\n",
       "      <td>NaN</td>\n",
       "      <td>NaN</td>\n",
       "      <td>NaN</td>\n",
       "    </tr>\n",
       "    <tr>\n",
       "      <th>50%</th>\n",
       "      <td>6.656650e+05</td>\n",
       "      <td>8.508120e+05</td>\n",
       "      <td>10000.000000</td>\n",
       "      <td>9600.000000</td>\n",
       "      <td>8975.000000</td>\n",
       "      <td>280.220000</td>\n",
       "      <td>5.900000e+04</td>\n",
       "      <td>13.400000</td>\n",
       "      <td>0.000000</td>\n",
       "      <td>1.000000</td>\n",
       "      <td>...</td>\n",
       "      <td>NaN</td>\n",
       "      <td>NaN</td>\n",
       "      <td>NaN</td>\n",
       "      <td>NaN</td>\n",
       "      <td>0.000000</td>\n",
       "      <td>0.0</td>\n",
       "      <td>NaN</td>\n",
       "      <td>NaN</td>\n",
       "      <td>NaN</td>\n",
       "      <td>NaN</td>\n",
       "    </tr>\n",
       "    <tr>\n",
       "      <th>75%</th>\n",
       "      <td>8.377550e+05</td>\n",
       "      <td>1.047339e+06</td>\n",
       "      <td>15000.000000</td>\n",
       "      <td>15000.000000</td>\n",
       "      <td>14400.000000</td>\n",
       "      <td>430.780000</td>\n",
       "      <td>8.230000e+04</td>\n",
       "      <td>18.600000</td>\n",
       "      <td>0.000000</td>\n",
       "      <td>1.000000</td>\n",
       "      <td>...</td>\n",
       "      <td>NaN</td>\n",
       "      <td>NaN</td>\n",
       "      <td>NaN</td>\n",
       "      <td>NaN</td>\n",
       "      <td>0.000000</td>\n",
       "      <td>0.0</td>\n",
       "      <td>NaN</td>\n",
       "      <td>NaN</td>\n",
       "      <td>NaN</td>\n",
       "      <td>NaN</td>\n",
       "    </tr>\n",
       "    <tr>\n",
       "      <th>max</th>\n",
       "      <td>1.077501e+06</td>\n",
       "      <td>1.314167e+06</td>\n",
       "      <td>35000.000000</td>\n",
       "      <td>35000.000000</td>\n",
       "      <td>35000.000000</td>\n",
       "      <td>1305.190000</td>\n",
       "      <td>6.000000e+06</td>\n",
       "      <td>29.990000</td>\n",
       "      <td>11.000000</td>\n",
       "      <td>8.000000</td>\n",
       "      <td>...</td>\n",
       "      <td>NaN</td>\n",
       "      <td>NaN</td>\n",
       "      <td>NaN</td>\n",
       "      <td>NaN</td>\n",
       "      <td>2.000000</td>\n",
       "      <td>0.0</td>\n",
       "      <td>NaN</td>\n",
       "      <td>NaN</td>\n",
       "      <td>NaN</td>\n",
       "      <td>NaN</td>\n",
       "    </tr>\n",
       "  </tbody>\n",
       "</table>\n",
       "<p>8 rows × 87 columns</p>\n",
       "</div>"
      ],
      "text/plain": [
       "                 id     member_id     loan_amnt   funded_amnt  \\\n",
       "count  3.971700e+04  3.971700e+04  39717.000000  39717.000000   \n",
       "mean   6.831319e+05  8.504636e+05  11219.443815  10947.713196   \n",
       "std    2.106941e+05  2.656783e+05   7456.670694   7187.238670   \n",
       "min    5.473400e+04  7.069900e+04    500.000000    500.000000   \n",
       "25%    5.162210e+05  6.667800e+05   5500.000000   5400.000000   \n",
       "50%    6.656650e+05  8.508120e+05  10000.000000   9600.000000   \n",
       "75%    8.377550e+05  1.047339e+06  15000.000000  15000.000000   \n",
       "max    1.077501e+06  1.314167e+06  35000.000000  35000.000000   \n",
       "\n",
       "       funded_amnt_inv   installment    annual_inc           dti  \\\n",
       "count     39717.000000  39717.000000  3.971700e+04  39717.000000   \n",
       "mean      10397.448868    324.561922  6.896893e+04     13.315130   \n",
       "std        7128.450439    208.874874  6.379377e+04      6.678594   \n",
       "min           0.000000     15.690000  4.000000e+03      0.000000   \n",
       "25%        5000.000000    167.020000  4.040400e+04      8.170000   \n",
       "50%        8975.000000    280.220000  5.900000e+04     13.400000   \n",
       "75%       14400.000000    430.780000  8.230000e+04     18.600000   \n",
       "max       35000.000000   1305.190000  6.000000e+06     29.990000   \n",
       "\n",
       "        delinq_2yrs  inq_last_6mths  ...  num_tl_90g_dpd_24m  \\\n",
       "count  39717.000000    39717.000000  ...                 0.0   \n",
       "mean       0.146512        0.869200  ...                 NaN   \n",
       "std        0.491812        1.070219  ...                 NaN   \n",
       "min        0.000000        0.000000  ...                 NaN   \n",
       "25%        0.000000        0.000000  ...                 NaN   \n",
       "50%        0.000000        1.000000  ...                 NaN   \n",
       "75%        0.000000        1.000000  ...                 NaN   \n",
       "max       11.000000        8.000000  ...                 NaN   \n",
       "\n",
       "       num_tl_op_past_12m  pct_tl_nvr_dlq  percent_bc_gt_75  \\\n",
       "count                 0.0             0.0               0.0   \n",
       "mean                  NaN             NaN               NaN   \n",
       "std                   NaN             NaN               NaN   \n",
       "min                   NaN             NaN               NaN   \n",
       "25%                   NaN             NaN               NaN   \n",
       "50%                   NaN             NaN               NaN   \n",
       "75%                   NaN             NaN               NaN   \n",
       "max                   NaN             NaN               NaN   \n",
       "\n",
       "       pub_rec_bankruptcies  tax_liens  tot_hi_cred_lim  total_bal_ex_mort  \\\n",
       "count          39020.000000    39678.0              0.0                0.0   \n",
       "mean               0.043260        0.0              NaN                NaN   \n",
       "std                0.204324        0.0              NaN                NaN   \n",
       "min                0.000000        0.0              NaN                NaN   \n",
       "25%                0.000000        0.0              NaN                NaN   \n",
       "50%                0.000000        0.0              NaN                NaN   \n",
       "75%                0.000000        0.0              NaN                NaN   \n",
       "max                2.000000        0.0              NaN                NaN   \n",
       "\n",
       "       total_bc_limit  total_il_high_credit_limit  \n",
       "count             0.0                         0.0  \n",
       "mean              NaN                         NaN  \n",
       "std               NaN                         NaN  \n",
       "min               NaN                         NaN  \n",
       "25%               NaN                         NaN  \n",
       "50%               NaN                         NaN  \n",
       "75%               NaN                         NaN  \n",
       "max               NaN                         NaN  \n",
       "\n",
       "[8 rows x 87 columns]"
      ]
     },
     "execution_count": 31,
     "metadata": {},
     "output_type": "execute_result"
    }
   ],
   "source": [
    "data_set.describe()"
   ]
  },
  {
   "cell_type": "code",
   "execution_count": 32,
   "id": "bfdf2efd",
   "metadata": {},
   "outputs": [
    {
     "data": {
      "text/plain": [
       "(39717, 111)"
      ]
     },
     "execution_count": 32,
     "metadata": {},
     "output_type": "execute_result"
    }
   ],
   "source": [
    "data_set.shape"
   ]
  },
  {
   "cell_type": "markdown",
   "id": "1f57391f",
   "metadata": {},
   "source": [
    "## Categorize the data based on the consumption\n",
    "\n",
    "Analyse the columns in the data set and categorise then based on the impact they have in our decision making process"
   ]
  },
  {
   "cell_type": "code",
   "execution_count": 33,
   "id": "099d25ce",
   "metadata": {},
   "outputs": [
    {
     "data": {
      "text/plain": [
       "Index(['id', 'member_id', 'loan_amnt', 'funded_amnt', 'funded_amnt_inv',\n",
       "       'term', 'int_rate', 'installment', 'grade', 'sub_grade',\n",
       "       ...\n",
       "       'num_tl_90g_dpd_24m', 'num_tl_op_past_12m', 'pct_tl_nvr_dlq',\n",
       "       'percent_bc_gt_75', 'pub_rec_bankruptcies', 'tax_liens',\n",
       "       'tot_hi_cred_lim', 'total_bal_ex_mort', 'total_bc_limit',\n",
       "       'total_il_high_credit_limit'],\n",
       "      dtype='object', length=111)"
      ]
     },
     "execution_count": 33,
     "metadata": {},
     "output_type": "execute_result"
    }
   ],
   "source": [
    "data_set.columns"
   ]
  },
  {
   "cell_type": "markdown",
   "id": "2295edfe",
   "metadata": {},
   "source": [
    "### Fields present in the data set: \n",
    "\n",
    "#### Personal information \n",
    "- id\n",
    "- member_id\n",
    "- annual_inc\n",
    "- annual_inc_joint\n",
    "- emp_length\n",
    "- emp_title\n",
    "- grade\n",
    "- home_ownership\n",
    "- addr_state\n",
    "- zip_code\n",
    "- verification_status\n",
    "- verified_status_joint\n",
    "\n",
    "#### Loan Information\n",
    "\n",
    "- title\n",
    "- desc\n",
    "- application_type\n",
    "- avg_cur_bal\n",
    "- acc_now_delinq\n",
    "- acc_open_past_24mths\n",
    "- chargeoff_within_12_mths\n",
    "- collection_recovery_fee\n",
    "- collections_12_mths_ex_med\n",
    "- delinq_2yrs\n",
    "- delinq_amnt\n",
    "- fico_range_high\n",
    "- fico_range_low\n",
    "- funded_amnt\n",
    "- funded_amnt_inv\n",
    "- initial_list_status\n",
    "- installment\n",
    "- int_rate\n",
    "- issue_d\n",
    "- last_credit_pull_d\n",
    "- last_fico_range_high\n",
    "- last_fico_range_low\n",
    "- last_pymnt_amnt\n",
    "- last_pymnt_d\n",
    "- loan_amnt\n",
    "- loan_status\n",
    "- mo_sin_old_il_acct\n",
    "- mo_sin_old_rev_tl_op\n",
    "- mo_sin_rcnt_rev_tl_op\n",
    "- mo_sin_rcnt_tl\n",
    "- mort_acc\n",
    "- mths_since_last_delinq\n",
    "- mths_since_last_major_derog\n",
    "- mths_since_last_record\n",
    "- mths_since_rcnt_il\n",
    "- mths_since_recent_bc\n",
    "- mths_since_recent_bc_dlq\n",
    "- mths_since_recent_inq\n",
    "- mths_since_recent_revol_delinq\n",
    "- next_pymnt_d\n",
    "- num_accts_ever_120_pd\n",
    "- num_actv_bc_tl\n",
    "- num_actv_rev_tl\n",
    "- num_bc_sats\n",
    "- num_bc_tl\n",
    "- num_il_tl\n",
    "- num_op_rev_tl\n",
    "- num_rev_accts\n",
    "- num_rev_tl_bal_gt_0\n",
    "- num_sats\n",
    "- num_tl_120dpd_2m\n",
    "- num_tl_30dpd\n",
    "- num_tl_90g_dpd_24m\n",
    "- num_tl_op_past_12m\n",
    "- open_acc\n",
    "- open_acc_6m\n",
    "- open_il_12m\n",
    "- open_il_24m\n",
    "- open_il_6m\n",
    "- open_rv_12m\n",
    "- open_rv_24m\n",
    "- out_prncp\n",
    "- out_prncp_inv\n",
    "- pct_tl_nvr_dlq\n",
    "- percent_bc_gt_75\n",
    "- policy_code\n",
    "- pub_rec\n",
    "- pub_rec_bankruptcies\n",
    "- purpose\n",
    "- pymnt_plan\n",
    "- recoveries\n",
    "- revol_bal\n",
    "- revol_util\n",
    "- sub_grade\n",
    "- tax_liens\n",
    "- term\n",
    "- tot_coll_amt\n",
    "- tot_cur_bal\n",
    "- tot_hi_cred_lim\n",
    "- total_acc\n",
    "- total_bal_ex_mort\n",
    "- total_bal_il\n",
    "- total_bc_limit\n",
    "- total_cu_tl\n",
    "- total_il_high_credit_limit\n",
    "- total_pymnt\n",
    "- total_pymnt_inv\n",
    "- total_rec_int\n",
    "- total_rec_late_fee\n",
    "- total_rec_prncp\n",
    "- total_rev_hi_lim  \n",
    "- url\n",
    "\n",
    "\n",
    "#### Credit Information\n",
    "- dti\n",
    "- dti_joint\n",
    "- all_util\n",
    "- bc_util\n",
    "- il_util\n",
    "- earliest_cr_line\n",
    "- max_bal_bc\n",
    "- bc_open_to_buy\n",
    "- inq_fi\n",
    "- inq_last_12m\n",
    "- inq_last_6mths\n"
   ]
  },
  {
   "cell_type": "markdown",
   "id": "6caa5065",
   "metadata": {},
   "source": [
    "## Data Cleansing \n",
    "\n",
    "#### Columns to be dropped \n",
    "\n",
    "It is clear that the data set has many columns that may not be useful in identifying risky applicants. Hence, we can remove them from the data set for easier analysis. \n",
    "\n",
    "The below data are relevant are personal and of no use for our analysis:\n",
    "\n",
    "- url\n",
    "- emp_title\n",
    "- zip_code\n",
    "- addr_state\n",
    "\n",
    "The below Loan related columns are of no use to us in perfoming the analysis:\n",
    "- last_credit_pull_d\n",
    "- desc\n",
    "- title\n",
    "- out_prncp_inv \n",
    "- total_pymnt_inv \n",
    "\n",
    "\n",
    "The below information becomes only relevant after the loan approval process. Since we are not interested in already approved loans and the process around it, we can delete the below rows as well:\n",
    "\n",
    "- delinq_2yrs\n",
    "- earliest_cr_line\n",
    "- inq_last_6mths\n",
    "- acc_now_delinq\n",
    "- open_acc\n",
    "- pub_rec\n",
    "- revol_bal\n",
    "- total_acc\n",
    "- out_prncp\n",
    "- out_prncp_inv\n",
    "- total_pymnt\n",
    "- total_pymnt_inv\n",
    "- total_rec_prncp\n",
    "- total_rec_int\n",
    "- total_rec_late_fee\n",
    "- recoveries\n",
    "- collection_recovery_fee\n",
    "- last_pymnt_d\n",
    "- last_pymnt_amnt\n",
    "- next_pymnt_d\n",
    "- last_credit_pull_d\n",
    "- application_type\n",
    "- pymnt_plan\n",
    "- initial_list_status\n",
    "- collections_12_mths_ex_med\n",
    "- policy_code\n",
    "- tax_liens"
   ]
  },
  {
   "cell_type": "code",
   "execution_count": 34,
   "id": "59769265",
   "metadata": {},
   "outputs": [],
   "source": [
    "data_set.drop([\"url\",\"title\",\"emp_title\",\"zip_code\",\"addr_state\",\"last_credit_pull_d\", \"desc\",\"out_prncp_inv\",\"total_pymnt_inv\",\"delinq_2yrs\", \"earliest_cr_line\", \"inq_last_6mths\"\n",
    ", \"open_acc\", \"pub_rec\",\"revol_bal\", \"total_acc\", \"out_prncp\", \"out_prncp_inv\", \"total_pymnt\", \"total_pymnt_inv\"\n",
    ", \"total_rec_prncp\",\"total_rec_int\",\"total_rec_late_fee\",\"recoveries\",\"collection_recovery_fee\",\"last_pymnt_d\",\"last_pymnt_amnt\"\n",
    "               ,\"next_pymnt_d\",\"last_credit_pull_d\",\"application_type\",\"tax_liens\", \"pymnt_plan\",\"policy_code\", \"acc_now_delinq\", \"initial_list_status\", \"collections_12_mths_ex_med\" ], axis = 1, inplace = True)\n"
   ]
  },
  {
   "cell_type": "code",
   "execution_count": 35,
   "id": "334a7526",
   "metadata": {},
   "outputs": [
    {
     "data": {
      "text/plain": [
       "(39717, 78)"
      ]
     },
     "execution_count": 35,
     "metadata": {},
     "output_type": "execute_result"
    }
   ],
   "source": [
    "data_set.shape"
   ]
  },
  {
   "cell_type": "markdown",
   "id": "d87adf00",
   "metadata": {},
   "source": [
    "We reduced the columns from 111 to 78 by performing the above clean up. "
   ]
  },
  {
   "cell_type": "markdown",
   "id": "724ddab0",
   "metadata": {},
   "source": [
    "#### Null value columns removal \n",
    "\n",
    "There are many columns with null values only present in it. We can remove them from the data set, as they wont be of any help to us. "
   ]
  },
  {
   "cell_type": "code",
   "execution_count": 36,
   "id": "73576010",
   "metadata": {},
   "outputs": [
    {
     "data": {
      "text/plain": [
       "id                                0\n",
       "member_id                         0\n",
       "loan_amnt                         0\n",
       "funded_amnt                       0\n",
       "funded_amnt_inv                   0\n",
       "                              ...  \n",
       "pub_rec_bankruptcies            697\n",
       "tot_hi_cred_lim               39717\n",
       "total_bal_ex_mort             39717\n",
       "total_bc_limit                39717\n",
       "total_il_high_credit_limit    39717\n",
       "Length: 78, dtype: int64"
      ]
     },
     "execution_count": 36,
     "metadata": {},
     "output_type": "execute_result"
    }
   ],
   "source": [
    "data_set.isnull().sum()"
   ]
  },
  {
   "cell_type": "code",
   "execution_count": 37,
   "id": "73d5b32f",
   "metadata": {},
   "outputs": [
    {
     "data": {
      "text/plain": [
       "(39717, 24)"
      ]
     },
     "execution_count": 37,
     "metadata": {},
     "output_type": "execute_result"
    }
   ],
   "source": [
    "data_set.dropna(axis = 1, how = 'all', inplace = True)\n",
    "data_set.shape"
   ]
  },
  {
   "cell_type": "markdown",
   "id": "4fc691f4",
   "metadata": {},
   "source": [
    "We have now reduced the columns to 24 from then orignal number of 111. "
   ]
  },
  {
   "cell_type": "code",
   "execution_count": 38,
   "id": "7d581aec",
   "metadata": {},
   "outputs": [
    {
     "data": {
      "text/plain": [
       "Index(['id', 'member_id', 'loan_amnt', 'funded_amnt', 'funded_amnt_inv',\n",
       "       'term', 'int_rate', 'installment', 'grade', 'sub_grade', 'emp_length',\n",
       "       'home_ownership', 'annual_inc', 'verification_status', 'issue_d',\n",
       "       'loan_status', 'purpose', 'dti', 'mths_since_last_delinq',\n",
       "       'mths_since_last_record', 'revol_util', 'chargeoff_within_12_mths',\n",
       "       'delinq_amnt', 'pub_rec_bankruptcies'],\n",
       "      dtype='object')"
      ]
     },
     "execution_count": 38,
     "metadata": {},
     "output_type": "execute_result"
    }
   ],
   "source": [
    "data_set.columns"
   ]
  },
  {
   "cell_type": "markdown",
   "id": "0082e2de",
   "metadata": {},
   "source": [
    "### Removing Loans with not relevant status value \n",
    "\n",
    "Let us now remove the loans that are marked as CURRENT. Since the data set does not provide information on the EMI's missed we cannot use the data of CURRENT loans to perform our analysis. We will focus on FULLY PAID and CHARGED OFF Loans only "
   ]
  },
  {
   "cell_type": "code",
   "execution_count": 39,
   "id": "4b288b2c",
   "metadata": {},
   "outputs": [
    {
     "data": {
      "text/plain": [
       "(38577, 24)"
      ]
     },
     "execution_count": 39,
     "metadata": {},
     "output_type": "execute_result"
    }
   ],
   "source": [
    "data_set = data_set[data_set.loan_status != \"Current\"]\n",
    "data_set.shape"
   ]
  },
  {
   "cell_type": "code",
   "execution_count": 40,
   "id": "bc20998b",
   "metadata": {},
   "outputs": [
    {
     "data": {
      "text/plain": [
       "array(['Fully Paid', 'Charged Off'], dtype=object)"
      ]
     },
     "execution_count": 40,
     "metadata": {},
     "output_type": "execute_result"
    }
   ],
   "source": [
    "data_set.loan_status.unique()"
   ]
  },
  {
   "cell_type": "markdown",
   "id": "4f44baca",
   "metadata": {},
   "source": [
    "Let us now download the data set to analyse in excel and view the cleansed data"
   ]
  },
  {
   "cell_type": "code",
   "execution_count": 57,
   "id": "5fdc4930",
   "metadata": {},
   "outputs": [],
   "source": [
    "data_set.to_csv(\"loans_cleansed.csv\")"
   ]
  },
  {
   "cell_type": "markdown",
   "id": "c4fb77d9",
   "metadata": {},
   "source": [
    "### Removing columns with same value present in all rows\n",
    "\n",
    "From the downloaded excel, it was clear that there are columns where all the rows have the same value. This will not help us in the analysis and hence can be deleted. "
   ]
  },
  {
   "cell_type": "code",
   "execution_count": 42,
   "id": "43a8b080",
   "metadata": {},
   "outputs": [],
   "source": [
    "data_set = data_set.drop(['delinq_amnt'], axis=1)"
   ]
  },
  {
   "cell_type": "code",
   "execution_count": 43,
   "id": "223876eb",
   "metadata": {},
   "outputs": [
    {
     "data": {
      "text/plain": [
       "(38577, 23)"
      ]
     },
     "execution_count": 43,
     "metadata": {},
     "output_type": "execute_result"
    }
   ],
   "source": [
    "data_set.shape"
   ]
  },
  {
   "cell_type": "markdown",
   "id": "74b1ac8c",
   "metadata": {},
   "source": [
    "### Convert the Employee Length field to have only numbers\n",
    "\n",
    "The data present in the employee lenght (no of years of experience) are character based. In order to perform some analysis on it, we would have to convert to numeric."
   ]
  },
  {
   "cell_type": "code",
   "execution_count": 44,
   "id": "e04b837f",
   "metadata": {},
   "outputs": [
    {
     "name": "stderr",
     "output_type": "stream",
     "text": [
      "/var/folders/cq/3_v0kxk56d79810f6w5gbnkr0000gn/T/ipykernel_25968/2336776962.py:4: SettingWithCopyWarning: \n",
      "A value is trying to be set on a copy of a slice from a DataFrame\n",
      "\n",
      "See the caveats in the documentation: https://pandas.pydata.org/pandas-docs/stable/user_guide/indexing.html#returning-a-view-versus-a-copy\n",
      "  data_set['emp_length'][data_set['emp_length'] == '< 1'] = '0.5'\n"
     ]
    },
    {
     "data": {
      "text/plain": [
       "0     10\n",
       "1    0.5\n",
       "2     10\n",
       "3     10\n",
       "5      3\n",
       "Name: emp_length, dtype: object"
      ]
     },
     "execution_count": 44,
     "metadata": {},
     "output_type": "execute_result"
    }
   ],
   "source": [
    "data_set.emp_length.fillna('0',inplace=True)\n",
    "data_set['emp_length'] = data_set['emp_length'].str.rstrip('years ')\n",
    "data_set['emp_length'].replace({'10+': '10'}, inplace=True)\n",
    "data_set['emp_length'][data_set['emp_length'] == '< 1'] = '0.5'\n",
    "data_set['emp_length'].head()"
   ]
  },
  {
   "cell_type": "markdown",
   "id": "9f7a51d2",
   "metadata": {},
   "source": [
    "### Clean up the field pub_rec_bankruptcies\n",
    "\n",
    "The field pub_rec_bankruptcies has many blank values present. We need to clean this up for better analysis."
   ]
  },
  {
   "cell_type": "code",
   "execution_count": 45,
   "id": "7209844a",
   "metadata": {},
   "outputs": [
    {
     "data": {
      "text/plain": [
       "697"
      ]
     },
     "execution_count": 45,
     "metadata": {},
     "output_type": "execute_result"
    }
   ],
   "source": [
    "data_set.pub_rec_bankruptcies.isnull().sum()"
   ]
  },
  {
   "cell_type": "code",
   "execution_count": 46,
   "id": "afe696b7",
   "metadata": {},
   "outputs": [],
   "source": [
    "data_set.fillna('Not Known',inplace=True)"
   ]
  },
  {
   "cell_type": "code",
   "execution_count": 47,
   "id": "907ba985",
   "metadata": {},
   "outputs": [
    {
     "data": {
      "text/plain": [
       "0"
      ]
     },
     "execution_count": 47,
     "metadata": {},
     "output_type": "execute_result"
    }
   ],
   "source": [
    "data_set.pub_rec_bankruptcies.isnull().sum()"
   ]
  },
  {
   "cell_type": "markdown",
   "id": "d49e4142",
   "metadata": {},
   "source": [
    "### Clean up the interest field and Revol_util field \n",
    "\n",
    "The interest field and revol_util field both have % symbol in them. Hence, data cleansing is requried to remove this and make the data a whole number. "
   ]
  },
  {
   "cell_type": "code",
   "execution_count": 49,
   "id": "255fdabb",
   "metadata": {},
   "outputs": [],
   "source": [
    "data_set['int_rate'] = data_set['int_rate'].str.rstrip('%')"
   ]
  },
  {
   "cell_type": "code",
   "execution_count": 50,
   "id": "a4317758",
   "metadata": {},
   "outputs": [
    {
     "data": {
      "text/plain": [
       "0    10.65\n",
       "1    15.27\n",
       "2    15.96\n",
       "3    13.49\n",
       "5     7.90\n",
       "Name: int_rate, dtype: object"
      ]
     },
     "execution_count": 50,
     "metadata": {},
     "output_type": "execute_result"
    }
   ],
   "source": [
    "data_set['int_rate'].head()"
   ]
  },
  {
   "cell_type": "code",
   "execution_count": 52,
   "id": "6967dee6",
   "metadata": {},
   "outputs": [
    {
     "data": {
      "text/plain": [
       "0        83.70\n",
       "1         9.40\n",
       "2        98.50\n",
       "3           21\n",
       "5        28.30\n",
       "         ...  \n",
       "39712    13.10\n",
       "39713    26.90\n",
       "39714    19.40\n",
       "39715     0.70\n",
       "39716    51.50\n",
       "Name: revol_util, Length: 38577, dtype: object"
      ]
     },
     "execution_count": 52,
     "metadata": {},
     "output_type": "execute_result"
    }
   ],
   "source": [
    "data_set['revol_util'] = data_set['revol_util'].str.rstrip('%')\n",
    "data_set['revol_util']"
   ]
  },
  {
   "cell_type": "markdown",
   "id": "3fc3dae9",
   "metadata": {},
   "source": [
    "### Clean up the term field\n",
    "\n",
    "The term field has \"months\" added to the data. We will clean this up and make it just a number. "
   ]
  },
  {
   "cell_type": "code",
   "execution_count": 55,
   "id": "10a776ac",
   "metadata": {},
   "outputs": [],
   "source": [
    "data_set['term'] = data_set['term'].str.rstrip('months')"
   ]
  },
  {
   "cell_type": "markdown",
   "id": "2800dd95",
   "metadata": {},
   "source": [
    "### Convert the columns to numeric data type\n",
    "\n",
    "We did clean up of many columns and also there are already existing columns where non numeric data types are used. We will not convert that to numeric data type for the analysis to be performed. "
   ]
  },
  {
   "cell_type": "code",
   "execution_count": 56,
   "id": "beb87922",
   "metadata": {},
   "outputs": [
    {
     "data": {
      "text/plain": [
       "Index(['id', 'member_id', 'loan_amnt', 'funded_amnt', 'funded_amnt_inv',\n",
       "       'term', 'int_rate', 'installment', 'grade', 'sub_grade', 'emp_length',\n",
       "       'home_ownership', 'annual_inc', 'verification_status', 'issue_d',\n",
       "       'loan_status', 'purpose', 'dti', 'mths_since_last_delinq',\n",
       "       'mths_since_last_record', 'revol_util', 'chargeoff_within_12_mths',\n",
       "       'pub_rec_bankruptcies'],\n",
       "      dtype='object')"
      ]
     },
     "execution_count": 56,
     "metadata": {},
     "output_type": "execute_result"
    }
   ],
   "source": [
    "data_set.columns"
   ]
  },
  {
   "cell_type": "code",
   "execution_count": 67,
   "id": "57e0dccc",
   "metadata": {},
   "outputs": [
    {
     "name": "stdout",
     "output_type": "stream",
     "text": [
      "<class 'pandas.core.frame.DataFrame'>\n",
      "Int64Index: 38577 entries, 0 to 39716\n",
      "Data columns (total 23 columns):\n",
      " #   Column                    Non-Null Count  Dtype  \n",
      "---  ------                    --------------  -----  \n",
      " 0   id                        38577 non-null  int64  \n",
      " 1   member_id                 38577 non-null  int64  \n",
      " 2   loan_amnt                 38577 non-null  int64  \n",
      " 3   funded_amnt               38577 non-null  int64  \n",
      " 4   funded_amnt_inv           38577 non-null  float64\n",
      " 5   term                      38577 non-null  int64  \n",
      " 6   int_rate                  38577 non-null  float64\n",
      " 7   installment               38577 non-null  float64\n",
      " 8   grade                     38577 non-null  object \n",
      " 9   sub_grade                 38577 non-null  object \n",
      " 10  emp_length                38577 non-null  float64\n",
      " 11  home_ownership            38577 non-null  object \n",
      " 12  annual_inc                38577 non-null  float64\n",
      " 13  verification_status       38577 non-null  object \n",
      " 14  issue_d                   38577 non-null  object \n",
      " 15  loan_status               38577 non-null  object \n",
      " 16  purpose                   38577 non-null  object \n",
      " 17  dti                       38577 non-null  float64\n",
      " 18  mths_since_last_delinq    38577 non-null  object \n",
      " 19  mths_since_last_record    38577 non-null  object \n",
      " 20  revol_util                38577 non-null  object \n",
      " 21  chargeoff_within_12_mths  38577 non-null  object \n",
      " 22  pub_rec_bankruptcies      38577 non-null  object \n",
      "dtypes: float64(6), int64(5), object(12)\n",
      "memory usage: 7.1+ MB\n"
     ]
    }
   ],
   "source": [
    "columns = ['loan_amnt', 'funded_amnt', 'funded_amnt_inv',\n",
    "       'term', 'int_rate', 'installment', 'emp_length','annual_inc', 'dti']\n",
    "\n",
    "data_set[columns] = data_set[columns].apply(pd.to_numeric)\n",
    "data_set.info()"
   ]
  },
  {
   "cell_type": "markdown",
   "id": "e4f78ed3",
   "metadata": {},
   "source": [
    "## Univariate Analysis\n",
    "\n",
    "As we have now done a good amount of data cleansing, we can start applying concepts of univariate analysis on the columns to get some inference. "
   ]
  },
  {
   "cell_type": "markdown",
   "id": "a8015564",
   "metadata": {},
   "source": [
    "### Distribution of the laons across emp_lenght\n",
    "\n",
    "Let us look at how the loans are distributed across the values of emp_length. "
   ]
  },
  {
   "cell_type": "code",
   "execution_count": 78,
   "id": "56c4ace7",
   "metadata": {},
   "outputs": [
    {
     "data": {
      "text/plain": [
       "10.0    8488\n",
       "0.5     4508\n",
       "2.0     4291\n",
       "3.0     4012\n",
       "4.0     3342\n",
       "5.0     3194\n",
       "1.0     3169\n",
       "6.0     2168\n",
       "7.0     1711\n",
       "8.0     1435\n",
       "9.0     1226\n",
       "0.0     1033\n",
       "Name: emp_length, dtype: int64"
      ]
     },
     "execution_count": 78,
     "metadata": {},
     "output_type": "execute_result"
    }
   ],
   "source": [
    "data_set.emp_length.value_counts()"
   ]
  },
  {
   "cell_type": "markdown",
   "id": "f8b33c75",
   "metadata": {},
   "source": [
    "From the above, it is clear that most of the loans are provided to employees who have 10 years of experience and more. Let us try to calculate the exact percentage. "
   ]
  },
  {
   "cell_type": "code",
   "execution_count": 81,
   "id": "110a9954",
   "metadata": {},
   "outputs": [
    {
     "data": {
      "text/plain": [
       "45.207128324758465"
      ]
     },
     "execution_count": 81,
     "metadata": {},
     "output_type": "execute_result"
    }
   ],
   "source": [
    "per_10 = (data_set.emp_length.loc[data_set['emp_length'] == 10].sum()/data_set.emp_length.sum())*100\n",
    "per_10"
   ]
  },
  {
   "cell_type": "markdown",
   "id": "f06b92a6",
   "metadata": {},
   "source": [
    "Hence, we can come to the conclusion that 45 percent of laons approved are for customers who are working for 10 years or more. "
   ]
  },
  {
   "cell_type": "markdown",
   "id": "b42cbc85",
   "metadata": {},
   "source": [
    "### Distribution of loans across Loan Status\n",
    "\n",
    "Let us now see how the loans are distributed across the status field. This will give us an idea of how many laons are full paid against charged off. "
   ]
  },
  {
   "cell_type": "code",
   "execution_count": 82,
   "id": "1ea55518",
   "metadata": {},
   "outputs": [
    {
     "data": {
      "text/plain": [
       "Fully Paid     32950\n",
       "Charged Off     5627\n",
       "Name: loan_status, dtype: int64"
      ]
     },
     "execution_count": 82,
     "metadata": {},
     "output_type": "execute_result"
    }
   ],
   "source": [
    "data_set.loan_status.value_counts()"
   ]
  },
  {
   "cell_type": "code",
   "execution_count": 90,
   "id": "3bac51a0",
   "metadata": {},
   "outputs": [
    {
     "data": {
      "text/plain": [
       "85.41358840760039"
      ]
     },
     "execution_count": 90,
     "metadata": {},
     "output_type": "execute_result"
    }
   ],
   "source": [
    "per_status = (len(data_set.loan_status.loc[data_set['loan_status'] == 'Fully Paid'])/len(data_set.loan_status))*100\n",
    "per_status"
   ]
  },
  {
   "cell_type": "markdown",
   "id": "eb5691e0",
   "metadata": {},
   "source": [
    "From the above, we can come to the conclusion taht around 85 percent of the loans are fully paid off and only around 15 percent loans are charged off. "
   ]
  },
  {
   "cell_type": "markdown",
   "id": "61e6d273",
   "metadata": {},
   "source": [
    "### Loan Amount Distribution\n",
    "\n",
    "Let us plot a graph to see how the loan amounts are distributed"
   ]
  },
  {
   "cell_type": "code",
   "execution_count": 91,
   "id": "0ee82bbc",
   "metadata": {},
   "outputs": [
    {
     "name": "stderr",
     "output_type": "stream",
     "text": [
      "/Users/I018289/opt/anaconda3/lib/python3.9/site-packages/seaborn/_decorators.py:36: FutureWarning: Pass the following variable as a keyword arg: x. From version 0.12, the only valid positional argument will be `data`, and passing other arguments without an explicit keyword will result in an error or misinterpretation.\n",
      "  warnings.warn(\n"
     ]
    },
    {
     "data": {
      "text/plain": [
       "<AxesSubplot:xlabel='loan_amnt'>"
      ]
     },
     "execution_count": 91,
     "metadata": {},
     "output_type": "execute_result"
    },
    {
     "data": {
      "image/png": "[encoded data removed]",
      "text/plain": [
       "<Figure size 432x288 with 1 Axes>"
      ]
     },
     "metadata": {
      "needs_background": "light"
     },
     "output_type": "display_data"
    }
   ],
   "source": [
    "sns.boxplot(data_set.loan_amnt)"
   ]
  },
  {
   "cell_type": "code",
   "execution_count": 100,
   "id": "0f0eeb73",
   "metadata": {},
   "outputs": [
    {
     "name": "stderr",
     "output_type": "stream",
     "text": [
      "/Users/I018289/opt/anaconda3/lib/python3.9/site-packages/seaborn/_decorators.py:36: FutureWarning: Pass the following variable as a keyword arg: x. From version 0.12, the only valid positional argument will be `data`, and passing other arguments without an explicit keyword will result in an error or misinterpretation.\n",
      "  warnings.warn(\n"
     ]
    },
    {
     "data": {
      "text/plain": [
       "<AxesSubplot:xlabel='funded_amnt_inv'>"
      ]
     },
     "execution_count": 100,
     "metadata": {},
     "output_type": "execute_result"
    },
    {
     "data": {
      "image/png": "[encoded data removed]",
      "text/plain": [
       "<Figure size 432x288 with 1 Axes>"
      ]
     },
     "metadata": {
      "needs_background": "light"
     },
     "output_type": "display_data"
    }
   ],
   "source": [
    "sns.boxplot(data_set.funded_amnt_inv)"
   ]
  },
  {
   "cell_type": "markdown",
   "id": "47d8e589",
   "metadata": {},
   "source": [
    "from the plot, we can infer the below:\n",
    "1. Loan amount varies from 0 to 35000\n",
    "2. Mean of the loan amount if around 10000\n",
    "3. The upper quartile is close to the highest value \n",
    "4. the lower quartile is closest to 0"
   ]
  },
  {
   "cell_type": "markdown",
   "id": "dfd03545",
   "metadata": {},
   "source": [
    "### Annual Income Distribution\n",
    "\n",
    "Let us now plot a graph to see how the distribution of annual incomes are present in the data set."
   ]
  },
  {
   "cell_type": "code",
   "execution_count": 92,
   "id": "1ed3eac6",
   "metadata": {},
   "outputs": [
    {
     "name": "stderr",
     "output_type": "stream",
     "text": [
      "/Users/I018289/opt/anaconda3/lib/python3.9/site-packages/seaborn/_decorators.py:36: FutureWarning: Pass the following variable as a keyword arg: x. From version 0.12, the only valid positional argument will be `data`, and passing other arguments without an explicit keyword will result in an error or misinterpretation.\n",
      "  warnings.warn(\n"
     ]
    },
    {
     "data": {
      "text/plain": [
       "<AxesSubplot:xlabel='annual_inc'>"
      ]
     },
     "execution_count": 92,
     "metadata": {},
     "output_type": "execute_result"
    },
    {
     "data": {
      "image/png": "[encoded data removed]",
      "text/plain": [
       "<Figure size 432x288 with 1 Axes>"
      ]
     },
     "metadata": {
      "needs_background": "light"
     },
     "output_type": "display_data"
    }
   ],
   "source": [
    "sns.boxplot(data_set.annual_inc)"
   ]
  },
  {
   "cell_type": "markdown",
   "id": "9fe882ac",
   "metadata": {},
   "source": [
    "From the above, it is clear that there are outliners present in the data and hence the graph plotted is not consumable. \n",
    "\n",
    "Let us now try to calculate the percentile and make better use of this graph. The idea is to remove the outliers from the data set while we plot the graph"
   ]
  },
  {
   "cell_type": "code",
   "execution_count": 94,
   "id": "6647be8f",
   "metadata": {},
   "outputs": [
    {
     "data": {
      "text/plain": [
       "115000.0"
      ]
     },
     "execution_count": 94,
     "metadata": {},
     "output_type": "execute_result"
    }
   ],
   "source": [
    "annual_inc_90_percentile = data_set['annual_inc'].quantile(0.90)\n",
    "annual_inc_90_percentile"
   ]
  },
  {
   "cell_type": "code",
   "execution_count": 96,
   "id": "9adac5ce",
   "metadata": {},
   "outputs": [
    {
     "data": {
      "text/plain": [
       "<AxesSubplot:xlabel='annual_inc'>"
      ]
     },
     "execution_count": 96,
     "metadata": {},
     "output_type": "execute_result"
    },
    {
     "data": {
      "image/png": "[encoded data removed]",
      "text/plain": [
       "<Figure size 432x288 with 1 Axes>"
      ]
     },
     "metadata": {
      "needs_background": "light"
     },
     "output_type": "display_data"
    }
   ],
   "source": [
    "data_set_2 = data_set[data_set.annual_inc <= annual_inc_90_percentile]\n",
    "sns.boxplot(data_set_2.annual_inc)"
   ]
  },
  {
   "cell_type": "markdown",
   "id": "c2bf879a",
   "metadata": {},
   "source": [
    "From this we can come to the below conclusion:\n",
    "1. Mean of the annual income is close to 6 lakhs\n",
    "2. Most of the loans are provided to annual income level between 4 lakhs and less than 8 lakhs (~7.5 lakhs)"
   ]
  },
  {
   "cell_type": "markdown",
   "id": "1580e3a5",
   "metadata": {},
   "source": [
    "### Dept to Income Ratio Plotting\n",
    "\n",
    "Let us see how the dti value plotting looks like"
   ]
  },
  {
   "cell_type": "code",
   "execution_count": 97,
   "id": "95126a61",
   "metadata": {},
   "outputs": [
    {
     "name": "stderr",
     "output_type": "stream",
     "text": [
      "/Users/I018289/opt/anaconda3/lib/python3.9/site-packages/seaborn/_decorators.py:36: FutureWarning: Pass the following variable as a keyword arg: x. From version 0.12, the only valid positional argument will be `data`, and passing other arguments without an explicit keyword will result in an error or misinterpretation.\n",
      "  warnings.warn(\n"
     ]
    },
    {
     "data": {
      "text/plain": [
       "<AxesSubplot:xlabel='dti'>"
      ]
     },
     "execution_count": 97,
     "metadata": {},
     "output_type": "execute_result"
    },
    {
     "data": {
      "image/png": "[encoded data removed]",
      "text/plain": [
       "<Figure size 432x288 with 1 Axes>"
      ]
     },
     "metadata": {
      "needs_background": "light"
     },
     "output_type": "display_data"
    }
   ],
   "source": [
    "sns.boxplot(data_set.dti)"
   ]
  },
  {
   "cell_type": "markdown",
   "id": "2b3834b0",
   "metadata": {},
   "source": [
    "From the above we can conclude that, most of the loans are provided to customers with dti value between 7.5 and 18. "
   ]
  },
  {
   "cell_type": "code",
   "execution_count": null,
   "id": "29911edb",
   "metadata": {},
   "outputs": [],
   "source": []
  }
 ],
 "metadata": {
  "kernelspec": {
   "display_name": "Python 3 (ipykernel)",
   "language": "python",
   "name": "python3"
  },
  "language_info": {
   "codemirror_mode": {
    "name": "ipython",
    "version": 3
   },
   "file_extension": ".py",
   "mimetype": "text/x-python",
   "name": "python",
   "nbconvert_exporter": "python",
   "pygments_lexer": "ipython3",
   "version": "3.9.12"
  },
  "vscode": {
   "interpreter": {
    "hash": "6691edb8e8001bf0dfb629f898d9d48ba2e25b3b35fa7c8ee283df9260ad1542"
   }
  }
 },
 "nbformat": 4,
 "nbformat_minor": 5
}
