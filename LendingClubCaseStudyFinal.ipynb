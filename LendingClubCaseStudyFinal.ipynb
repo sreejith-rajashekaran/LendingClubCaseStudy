{
 "cells": [
  {
   "cell_type": "markdown",
   "id": "82642e8d",
   "metadata": {},
   "source": [
    "# Lending Club Case Study"
   ]
  },
  {
   "cell_type": "markdown",
   "id": "4691908c",
   "metadata": {},
   "source": [
    "## Import libraries\n",
    "\n",
    "Importing the necessary libraries for performing Exploratory Data Analysis"
   ]
  },
  {
   "cell_type": "code",
   "execution_count": 129,
   "id": "945e154e",
   "metadata": {},
   "outputs": [],
   "source": [
    "import numpy as np\n",
    "import pandas as pd\n",
    "import matplotlib.pyplot as plt\n",
    "import seaborn as sns"
   ]
  },
  {
   "cell_type": "markdown",
   "id": "d836f024",
   "metadata": {},
   "source": [
    "## Data Visualization \n",
    "\n",
    "With any data, the first step would be to visualize the data and understand the content. Try to get a gist of the fields present, data present, cleansing requirements and so on."
   ]
  },
  {
   "cell_type": "markdown",
   "id": "342ac003",
   "metadata": {},
   "source": [
    "## Uploading the data\n",
    "\n",
    "Upload the data into the pandas dataframe for performing all analysis"
   ]
  },
  {
   "cell_type": "code",
   "execution_count": 135,
   "id": "ec9c87f1",
   "metadata": {
    "scrolled": true
   },
   "outputs": [
    {
     "name": "stderr",
     "output_type": "stream",
     "text": [
      "/var/folders/cq/3_v0kxk56d79810f6w5gbnkr0000gn/T/ipykernel_25968/2955158840.py:1: DtypeWarning: Columns (47) have mixed types. Specify dtype option on import or set low_memory=False.\n",
      "  data_set = pd.read_csv(\"loan.csv\")\n"
     ]
    },
    {
     "data": {
      "text/html": [
       "<div>\n",
       "<style scoped>\n",
       "    .dataframe tbody tr th:only-of-type {\n",
       "        vertical-align: middle;\n",
       "    }\n",
       "\n",
       "    .dataframe tbody tr th {\n",
       "        vertical-align: top;\n",
       "    }\n",
       "\n",
       "    .dataframe thead th {\n",
       "        text-align: right;\n",
       "    }\n",
       "</style>\n",
       "<table border=\"1\" class=\"dataframe\">\n",
       "  <thead>\n",
       "    <tr style=\"text-align: right;\">\n",
       "      <th></th>\n",
       "      <th>id</th>\n",
       "      <th>member_id</th>\n",
       "      <th>loan_amnt</th>\n",
       "      <th>funded_amnt</th>\n",
       "      <th>funded_amnt_inv</th>\n",
       "      <th>term</th>\n",
       "      <th>int_rate</th>\n",
       "      <th>installment</th>\n",
       "      <th>grade</th>\n",
       "      <th>sub_grade</th>\n",
       "      <th>...</th>\n",
       "      <th>num_tl_90g_dpd_24m</th>\n",
       "      <th>num_tl_op_past_12m</th>\n",
       "      <th>pct_tl_nvr_dlq</th>\n",
       "      <th>percent_bc_gt_75</th>\n",
       "      <th>pub_rec_bankruptcies</th>\n",
       "      <th>tax_liens</th>\n",
       "      <th>tot_hi_cred_lim</th>\n",
       "      <th>total_bal_ex_mort</th>\n",
       "      <th>total_bc_limit</th>\n",
       "      <th>total_il_high_credit_limit</th>\n",
       "    </tr>\n",
       "  </thead>\n",
       "  <tbody>\n",
       "    <tr>\n",
       "      <th>0</th>\n",
       "      <td>1077501</td>\n",
       "      <td>1296599</td>\n",
       "      <td>5000</td>\n",
       "      <td>5000</td>\n",
       "      <td>4975.0</td>\n",
       "      <td>36 months</td>\n",
       "      <td>10.65%</td>\n",
       "      <td>162.87</td>\n",
       "      <td>B</td>\n",
       "      <td>B2</td>\n",
       "      <td>...</td>\n",
       "      <td>NaN</td>\n",
       "      <td>NaN</td>\n",
       "      <td>NaN</td>\n",
       "      <td>NaN</td>\n",
       "      <td>0.0</td>\n",
       "      <td>0.0</td>\n",
       "      <td>NaN</td>\n",
       "      <td>NaN</td>\n",
       "      <td>NaN</td>\n",
       "      <td>NaN</td>\n",
       "    </tr>\n",
       "    <tr>\n",
       "      <th>1</th>\n",
       "      <td>1077430</td>\n",
       "      <td>1314167</td>\n",
       "      <td>2500</td>\n",
       "      <td>2500</td>\n",
       "      <td>2500.0</td>\n",
       "      <td>60 months</td>\n",
       "      <td>15.27%</td>\n",
       "      <td>59.83</td>\n",
       "      <td>C</td>\n",
       "      <td>C4</td>\n",
       "      <td>...</td>\n",
       "      <td>NaN</td>\n",
       "      <td>NaN</td>\n",
       "      <td>NaN</td>\n",
       "      <td>NaN</td>\n",
       "      <td>0.0</td>\n",
       "      <td>0.0</td>\n",
       "      <td>NaN</td>\n",
       "      <td>NaN</td>\n",
       "      <td>NaN</td>\n",
       "      <td>NaN</td>\n",
       "    </tr>\n",
       "    <tr>\n",
       "      <th>2</th>\n",
       "      <td>1077175</td>\n",
       "      <td>1313524</td>\n",
       "      <td>2400</td>\n",
       "      <td>2400</td>\n",
       "      <td>2400.0</td>\n",
       "      <td>36 months</td>\n",
       "      <td>15.96%</td>\n",
       "      <td>84.33</td>\n",
       "      <td>C</td>\n",
       "      <td>C5</td>\n",
       "      <td>...</td>\n",
       "      <td>NaN</td>\n",
       "      <td>NaN</td>\n",
       "      <td>NaN</td>\n",
       "      <td>NaN</td>\n",
       "      <td>0.0</td>\n",
       "      <td>0.0</td>\n",
       "      <td>NaN</td>\n",
       "      <td>NaN</td>\n",
       "      <td>NaN</td>\n",
       "      <td>NaN</td>\n",
       "    </tr>\n",
       "    <tr>\n",
       "      <th>3</th>\n",
       "      <td>1076863</td>\n",
       "      <td>1277178</td>\n",
       "      <td>10000</td>\n",
       "      <td>10000</td>\n",
       "      <td>10000.0</td>\n",
       "      <td>36 months</td>\n",
       "      <td>13.49%</td>\n",
       "      <td>339.31</td>\n",
       "      <td>C</td>\n",
       "      <td>C1</td>\n",
       "      <td>...</td>\n",
       "      <td>NaN</td>\n",
       "      <td>NaN</td>\n",
       "      <td>NaN</td>\n",
       "      <td>NaN</td>\n",
       "      <td>0.0</td>\n",
       "      <td>0.0</td>\n",
       "      <td>NaN</td>\n",
       "      <td>NaN</td>\n",
       "      <td>NaN</td>\n",
       "      <td>NaN</td>\n",
       "    </tr>\n",
       "    <tr>\n",
       "      <th>4</th>\n",
       "      <td>1075358</td>\n",
       "      <td>1311748</td>\n",
       "      <td>3000</td>\n",
       "      <td>3000</td>\n",
       "      <td>3000.0</td>\n",
       "      <td>60 months</td>\n",
       "      <td>12.69%</td>\n",
       "      <td>67.79</td>\n",
       "      <td>B</td>\n",
       "      <td>B5</td>\n",
       "      <td>...</td>\n",
       "      <td>NaN</td>\n",
       "      <td>NaN</td>\n",
       "      <td>NaN</td>\n",
       "      <td>NaN</td>\n",
       "      <td>0.0</td>\n",
       "      <td>0.0</td>\n",
       "      <td>NaN</td>\n",
       "      <td>NaN</td>\n",
       "      <td>NaN</td>\n",
       "      <td>NaN</td>\n",
       "    </tr>\n",
       "    <tr>\n",
       "      <th>5</th>\n",
       "      <td>1075269</td>\n",
       "      <td>1311441</td>\n",
       "      <td>5000</td>\n",
       "      <td>5000</td>\n",
       "      <td>5000.0</td>\n",
       "      <td>36 months</td>\n",
       "      <td>7.90%</td>\n",
       "      <td>156.46</td>\n",
       "      <td>A</td>\n",
       "      <td>A4</td>\n",
       "      <td>...</td>\n",
       "      <td>NaN</td>\n",
       "      <td>NaN</td>\n",
       "      <td>NaN</td>\n",
       "      <td>NaN</td>\n",
       "      <td>0.0</td>\n",
       "      <td>0.0</td>\n",
       "      <td>NaN</td>\n",
       "      <td>NaN</td>\n",
       "      <td>NaN</td>\n",
       "      <td>NaN</td>\n",
       "    </tr>\n",
       "    <tr>\n",
       "      <th>6</th>\n",
       "      <td>1069639</td>\n",
       "      <td>1304742</td>\n",
       "      <td>7000</td>\n",
       "      <td>7000</td>\n",
       "      <td>7000.0</td>\n",
       "      <td>60 months</td>\n",
       "      <td>15.96%</td>\n",
       "      <td>170.08</td>\n",
       "      <td>C</td>\n",
       "      <td>C5</td>\n",
       "      <td>...</td>\n",
       "      <td>NaN</td>\n",
       "      <td>NaN</td>\n",
       "      <td>NaN</td>\n",
       "      <td>NaN</td>\n",
       "      <td>0.0</td>\n",
       "      <td>0.0</td>\n",
       "      <td>NaN</td>\n",
       "      <td>NaN</td>\n",
       "      <td>NaN</td>\n",
       "      <td>NaN</td>\n",
       "    </tr>\n",
       "    <tr>\n",
       "      <th>7</th>\n",
       "      <td>1072053</td>\n",
       "      <td>1288686</td>\n",
       "      <td>3000</td>\n",
       "      <td>3000</td>\n",
       "      <td>3000.0</td>\n",
       "      <td>36 months</td>\n",
       "      <td>18.64%</td>\n",
       "      <td>109.43</td>\n",
       "      <td>E</td>\n",
       "      <td>E1</td>\n",
       "      <td>...</td>\n",
       "      <td>NaN</td>\n",
       "      <td>NaN</td>\n",
       "      <td>NaN</td>\n",
       "      <td>NaN</td>\n",
       "      <td>0.0</td>\n",
       "      <td>0.0</td>\n",
       "      <td>NaN</td>\n",
       "      <td>NaN</td>\n",
       "      <td>NaN</td>\n",
       "      <td>NaN</td>\n",
       "    </tr>\n",
       "    <tr>\n",
       "      <th>8</th>\n",
       "      <td>1071795</td>\n",
       "      <td>1306957</td>\n",
       "      <td>5600</td>\n",
       "      <td>5600</td>\n",
       "      <td>5600.0</td>\n",
       "      <td>60 months</td>\n",
       "      <td>21.28%</td>\n",
       "      <td>152.39</td>\n",
       "      <td>F</td>\n",
       "      <td>F2</td>\n",
       "      <td>...</td>\n",
       "      <td>NaN</td>\n",
       "      <td>NaN</td>\n",
       "      <td>NaN</td>\n",
       "      <td>NaN</td>\n",
       "      <td>0.0</td>\n",
       "      <td>0.0</td>\n",
       "      <td>NaN</td>\n",
       "      <td>NaN</td>\n",
       "      <td>NaN</td>\n",
       "      <td>NaN</td>\n",
       "    </tr>\n",
       "    <tr>\n",
       "      <th>9</th>\n",
       "      <td>1071570</td>\n",
       "      <td>1306721</td>\n",
       "      <td>5375</td>\n",
       "      <td>5375</td>\n",
       "      <td>5350.0</td>\n",
       "      <td>60 months</td>\n",
       "      <td>12.69%</td>\n",
       "      <td>121.45</td>\n",
       "      <td>B</td>\n",
       "      <td>B5</td>\n",
       "      <td>...</td>\n",
       "      <td>NaN</td>\n",
       "      <td>NaN</td>\n",
       "      <td>NaN</td>\n",
       "      <td>NaN</td>\n",
       "      <td>0.0</td>\n",
       "      <td>0.0</td>\n",
       "      <td>NaN</td>\n",
       "      <td>NaN</td>\n",
       "      <td>NaN</td>\n",
       "      <td>NaN</td>\n",
       "    </tr>\n",
       "  </tbody>\n",
       "</table>\n",
       "<p>10 rows × 111 columns</p>\n",
       "</div>"
      ],
      "text/plain": [
       "        id  member_id  loan_amnt  funded_amnt  funded_amnt_inv        term  \\\n",
       "0  1077501    1296599       5000         5000           4975.0   36 months   \n",
       "1  1077430    1314167       2500         2500           2500.0   60 months   \n",
       "2  1077175    1313524       2400         2400           2400.0   36 months   \n",
       "3  1076863    1277178      10000        10000          10000.0   36 months   \n",
       "4  1075358    1311748       3000         3000           3000.0   60 months   \n",
       "5  1075269    1311441       5000         5000           5000.0   36 months   \n",
       "6  1069639    1304742       7000         7000           7000.0   60 months   \n",
       "7  1072053    1288686       3000         3000           3000.0   36 months   \n",
       "8  1071795    1306957       5600         5600           5600.0   60 months   \n",
       "9  1071570    1306721       5375         5375           5350.0   60 months   \n",
       "\n",
       "  int_rate  installment grade sub_grade  ... num_tl_90g_dpd_24m  \\\n",
       "0   10.65%       162.87     B        B2  ...                NaN   \n",
       "1   15.27%        59.83     C        C4  ...                NaN   \n",
       "2   15.96%        84.33     C        C5  ...                NaN   \n",
       "3   13.49%       339.31     C        C1  ...                NaN   \n",
       "4   12.69%        67.79     B        B5  ...                NaN   \n",
       "5    7.90%       156.46     A        A4  ...                NaN   \n",
       "6   15.96%       170.08     C        C5  ...                NaN   \n",
       "7   18.64%       109.43     E        E1  ...                NaN   \n",
       "8   21.28%       152.39     F        F2  ...                NaN   \n",
       "9   12.69%       121.45     B        B5  ...                NaN   \n",
       "\n",
       "  num_tl_op_past_12m pct_tl_nvr_dlq  percent_bc_gt_75 pub_rec_bankruptcies  \\\n",
       "0                NaN            NaN               NaN                  0.0   \n",
       "1                NaN            NaN               NaN                  0.0   \n",
       "2                NaN            NaN               NaN                  0.0   \n",
       "3                NaN            NaN               NaN                  0.0   \n",
       "4                NaN            NaN               NaN                  0.0   \n",
       "5                NaN            NaN               NaN                  0.0   \n",
       "6                NaN            NaN               NaN                  0.0   \n",
       "7                NaN            NaN               NaN                  0.0   \n",
       "8                NaN            NaN               NaN                  0.0   \n",
       "9                NaN            NaN               NaN                  0.0   \n",
       "\n",
       "  tax_liens tot_hi_cred_lim total_bal_ex_mort total_bc_limit  \\\n",
       "0       0.0             NaN               NaN            NaN   \n",
       "1       0.0             NaN               NaN            NaN   \n",
       "2       0.0             NaN               NaN            NaN   \n",
       "3       0.0             NaN               NaN            NaN   \n",
       "4       0.0             NaN               NaN            NaN   \n",
       "5       0.0             NaN               NaN            NaN   \n",
       "6       0.0             NaN               NaN            NaN   \n",
       "7       0.0             NaN               NaN            NaN   \n",
       "8       0.0             NaN               NaN            NaN   \n",
       "9       0.0             NaN               NaN            NaN   \n",
       "\n",
       "  total_il_high_credit_limit  \n",
       "0                        NaN  \n",
       "1                        NaN  \n",
       "2                        NaN  \n",
       "3                        NaN  \n",
       "4                        NaN  \n",
       "5                        NaN  \n",
       "6                        NaN  \n",
       "7                        NaN  \n",
       "8                        NaN  \n",
       "9                        NaN  \n",
       "\n",
       "[10 rows x 111 columns]"
      ]
     },
     "execution_count": 135,
     "metadata": {},
     "output_type": "execute_result"
    }
   ],
   "source": [
    "data_set = pd.read_csv(\"loan.csv\")\n",
    "data_set.head(10)"
   ]
  },
  {
   "cell_type": "markdown",
   "id": "cd140d2c",
   "metadata": {},
   "source": [
    "## Describe the data \n",
    "\n",
    "Use the commands like describe, shape command to understand the field analytics"
   ]
  },
  {
   "cell_type": "code",
   "execution_count": 137,
   "id": "af708c9e",
   "metadata": {},
   "outputs": [
    {
     "data": {
      "text/html": [
       "<div>\n",
       "<style scoped>\n",
       "    .dataframe tbody tr th:only-of-type {\n",
       "        vertical-align: middle;\n",
       "    }\n",
       "\n",
       "    .dataframe tbody tr th {\n",
       "        vertical-align: top;\n",
       "    }\n",
       "\n",
       "    .dataframe thead th {\n",
       "        text-align: right;\n",
       "    }\n",
       "</style>\n",
       "<table border=\"1\" class=\"dataframe\">\n",
       "  <thead>\n",
       "    <tr style=\"text-align: right;\">\n",
       "      <th></th>\n",
       "      <th>id</th>\n",
       "      <th>member_id</th>\n",
       "      <th>loan_amnt</th>\n",
       "      <th>funded_amnt</th>\n",
       "      <th>funded_amnt_inv</th>\n",
       "      <th>installment</th>\n",
       "      <th>annual_inc</th>\n",
       "      <th>dti</th>\n",
       "      <th>delinq_2yrs</th>\n",
       "      <th>inq_last_6mths</th>\n",
       "      <th>...</th>\n",
       "      <th>num_tl_90g_dpd_24m</th>\n",
       "      <th>num_tl_op_past_12m</th>\n",
       "      <th>pct_tl_nvr_dlq</th>\n",
       "      <th>percent_bc_gt_75</th>\n",
       "      <th>pub_rec_bankruptcies</th>\n",
       "      <th>tax_liens</th>\n",
       "      <th>tot_hi_cred_lim</th>\n",
       "      <th>total_bal_ex_mort</th>\n",
       "      <th>total_bc_limit</th>\n",
       "      <th>total_il_high_credit_limit</th>\n",
       "    </tr>\n",
       "  </thead>\n",
       "  <tbody>\n",
       "    <tr>\n",
       "      <th>count</th>\n",
       "      <td>3.971700e+04</td>\n",
       "      <td>3.971700e+04</td>\n",
       "      <td>39717.000000</td>\n",
       "      <td>39717.000000</td>\n",
       "      <td>39717.000000</td>\n",
       "      <td>39717.000000</td>\n",
       "      <td>3.971700e+04</td>\n",
       "      <td>39717.000000</td>\n",
       "      <td>39717.000000</td>\n",
       "      <td>39717.000000</td>\n",
       "      <td>...</td>\n",
       "      <td>0.0</td>\n",
       "      <td>0.0</td>\n",
       "      <td>0.0</td>\n",
       "      <td>0.0</td>\n",
       "      <td>39020.000000</td>\n",
       "      <td>39678.0</td>\n",
       "      <td>0.0</td>\n",
       "      <td>0.0</td>\n",
       "      <td>0.0</td>\n",
       "      <td>0.0</td>\n",
       "    </tr>\n",
       "    <tr>\n",
       "      <th>mean</th>\n",
       "      <td>6.831319e+05</td>\n",
       "      <td>8.504636e+05</td>\n",
       "      <td>11219.443815</td>\n",
       "      <td>10947.713196</td>\n",
       "      <td>10397.448868</td>\n",
       "      <td>324.561922</td>\n",
       "      <td>6.896893e+04</td>\n",
       "      <td>13.315130</td>\n",
       "      <td>0.146512</td>\n",
       "      <td>0.869200</td>\n",
       "      <td>...</td>\n",
       "      <td>NaN</td>\n",
       "      <td>NaN</td>\n",
       "      <td>NaN</td>\n",
       "      <td>NaN</td>\n",
       "      <td>0.043260</td>\n",
       "      <td>0.0</td>\n",
       "      <td>NaN</td>\n",
       "      <td>NaN</td>\n",
       "      <td>NaN</td>\n",
       "      <td>NaN</td>\n",
       "    </tr>\n",
       "    <tr>\n",
       "      <th>std</th>\n",
       "      <td>2.106941e+05</td>\n",
       "      <td>2.656783e+05</td>\n",
       "      <td>7456.670694</td>\n",
       "      <td>7187.238670</td>\n",
       "      <td>7128.450439</td>\n",
       "      <td>208.874874</td>\n",
       "      <td>6.379377e+04</td>\n",
       "      <td>6.678594</td>\n",
       "      <td>0.491812</td>\n",
       "      <td>1.070219</td>\n",
       "      <td>...</td>\n",
       "      <td>NaN</td>\n",
       "      <td>NaN</td>\n",
       "      <td>NaN</td>\n",
       "      <td>NaN</td>\n",
       "      <td>0.204324</td>\n",
       "      <td>0.0</td>\n",
       "      <td>NaN</td>\n",
       "      <td>NaN</td>\n",
       "      <td>NaN</td>\n",
       "      <td>NaN</td>\n",
       "    </tr>\n",
       "    <tr>\n",
       "      <th>min</th>\n",
       "      <td>5.473400e+04</td>\n",
       "      <td>7.069900e+04</td>\n",
       "      <td>500.000000</td>\n",
       "      <td>500.000000</td>\n",
       "      <td>0.000000</td>\n",
       "      <td>15.690000</td>\n",
       "      <td>4.000000e+03</td>\n",
       "      <td>0.000000</td>\n",
       "      <td>0.000000</td>\n",
       "      <td>0.000000</td>\n",
       "      <td>...</td>\n",
       "      <td>NaN</td>\n",
       "      <td>NaN</td>\n",
       "      <td>NaN</td>\n",
       "      <td>NaN</td>\n",
       "      <td>0.000000</td>\n",
       "      <td>0.0</td>\n",
       "      <td>NaN</td>\n",
       "      <td>NaN</td>\n",
       "      <td>NaN</td>\n",
       "      <td>NaN</td>\n",
       "    </tr>\n",
       "    <tr>\n",
       "      <th>25%</th>\n",
       "      <td>5.162210e+05</td>\n",
       "      <td>6.667800e+05</td>\n",
       "      <td>5500.000000</td>\n",
       "      <td>5400.000000</td>\n",
       "      <td>5000.000000</td>\n",
       "      <td>167.020000</td>\n",
       "      <td>4.040400e+04</td>\n",
       "      <td>8.170000</td>\n",
       "      <td>0.000000</td>\n",
       "      <td>0.000000</td>\n",
       "      <td>...</td>\n",
       "      <td>NaN</td>\n",
       "      <td>NaN</td>\n",
       "      <td>NaN</td>\n",
       "      <td>NaN</td>\n",
       "      <td>0.000000</td>\n",
       "      <td>0.0</td>\n",
       "      <td>NaN</td>\n",
       "      <td>NaN</td>\n",
       "      <td>NaN</td>\n",
       "      <td>NaN</td>\n",
       "    </tr>\n",
       "    <tr>\n",
       "      <th>50%</th>\n",
       "      <td>6.656650e+05</td>\n",
       "      <td>8.508120e+05</td>\n",
       "      <td>10000.000000</td>\n",
       "      <td>9600.000000</td>\n",
       "      <td>8975.000000</td>\n",
       "      <td>280.220000</td>\n",
       "      <td>5.900000e+04</td>\n",
       "      <td>13.400000</td>\n",
       "      <td>0.000000</td>\n",
       "      <td>1.000000</td>\n",
       "      <td>...</td>\n",
       "      <td>NaN</td>\n",
       "      <td>NaN</td>\n",
       "      <td>NaN</td>\n",
       "      <td>NaN</td>\n",
       "      <td>0.000000</td>\n",
       "      <td>0.0</td>\n",
       "      <td>NaN</td>\n",
       "      <td>NaN</td>\n",
       "      <td>NaN</td>\n",
       "      <td>NaN</td>\n",
       "    </tr>\n",
       "    <tr>\n",
       "      <th>75%</th>\n",
       "      <td>8.377550e+05</td>\n",
       "      <td>1.047339e+06</td>\n",
       "      <td>15000.000000</td>\n",
       "      <td>15000.000000</td>\n",
       "      <td>14400.000000</td>\n",
       "      <td>430.780000</td>\n",
       "      <td>8.230000e+04</td>\n",
       "      <td>18.600000</td>\n",
       "      <td>0.000000</td>\n",
       "      <td>1.000000</td>\n",
       "      <td>...</td>\n",
       "      <td>NaN</td>\n",
       "      <td>NaN</td>\n",
       "      <td>NaN</td>\n",
       "      <td>NaN</td>\n",
       "      <td>0.000000</td>\n",
       "      <td>0.0</td>\n",
       "      <td>NaN</td>\n",
       "      <td>NaN</td>\n",
       "      <td>NaN</td>\n",
       "      <td>NaN</td>\n",
       "    </tr>\n",
       "    <tr>\n",
       "      <th>max</th>\n",
       "      <td>1.077501e+06</td>\n",
       "      <td>1.314167e+06</td>\n",
       "      <td>35000.000000</td>\n",
       "      <td>35000.000000</td>\n",
       "      <td>35000.000000</td>\n",
       "      <td>1305.190000</td>\n",
       "      <td>6.000000e+06</td>\n",
       "      <td>29.990000</td>\n",
       "      <td>11.000000</td>\n",
       "      <td>8.000000</td>\n",
       "      <td>...</td>\n",
       "      <td>NaN</td>\n",
       "      <td>NaN</td>\n",
       "      <td>NaN</td>\n",
       "      <td>NaN</td>\n",
       "      <td>2.000000</td>\n",
       "      <td>0.0</td>\n",
       "      <td>NaN</td>\n",
       "      <td>NaN</td>\n",
       "      <td>NaN</td>\n",
       "      <td>NaN</td>\n",
       "    </tr>\n",
       "  </tbody>\n",
       "</table>\n",
       "<p>8 rows × 87 columns</p>\n",
       "</div>"
      ],
      "text/plain": [
       "                 id     member_id     loan_amnt   funded_amnt  \\\n",
       "count  3.971700e+04  3.971700e+04  39717.000000  39717.000000   \n",
       "mean   6.831319e+05  8.504636e+05  11219.443815  10947.713196   \n",
       "std    2.106941e+05  2.656783e+05   7456.670694   7187.238670   \n",
       "min    5.473400e+04  7.069900e+04    500.000000    500.000000   \n",
       "25%    5.162210e+05  6.667800e+05   5500.000000   5400.000000   \n",
       "50%    6.656650e+05  8.508120e+05  10000.000000   9600.000000   \n",
       "75%    8.377550e+05  1.047339e+06  15000.000000  15000.000000   \n",
       "max    1.077501e+06  1.314167e+06  35000.000000  35000.000000   \n",
       "\n",
       "       funded_amnt_inv   installment    annual_inc           dti  \\\n",
       "count     39717.000000  39717.000000  3.971700e+04  39717.000000   \n",
       "mean      10397.448868    324.561922  6.896893e+04     13.315130   \n",
       "std        7128.450439    208.874874  6.379377e+04      6.678594   \n",
       "min           0.000000     15.690000  4.000000e+03      0.000000   \n",
       "25%        5000.000000    167.020000  4.040400e+04      8.170000   \n",
       "50%        8975.000000    280.220000  5.900000e+04     13.400000   \n",
       "75%       14400.000000    430.780000  8.230000e+04     18.600000   \n",
       "max       35000.000000   1305.190000  6.000000e+06     29.990000   \n",
       "\n",
       "        delinq_2yrs  inq_last_6mths  ...  num_tl_90g_dpd_24m  \\\n",
       "count  39717.000000    39717.000000  ...                 0.0   \n",
       "mean       0.146512        0.869200  ...                 NaN   \n",
       "std        0.491812        1.070219  ...                 NaN   \n",
       "min        0.000000        0.000000  ...                 NaN   \n",
       "25%        0.000000        0.000000  ...                 NaN   \n",
       "50%        0.000000        1.000000  ...                 NaN   \n",
       "75%        0.000000        1.000000  ...                 NaN   \n",
       "max       11.000000        8.000000  ...                 NaN   \n",
       "\n",
       "       num_tl_op_past_12m  pct_tl_nvr_dlq  percent_bc_gt_75  \\\n",
       "count                 0.0             0.0               0.0   \n",
       "mean                  NaN             NaN               NaN   \n",
       "std                   NaN             NaN               NaN   \n",
       "min                   NaN             NaN               NaN   \n",
       "25%                   NaN             NaN               NaN   \n",
       "50%                   NaN             NaN               NaN   \n",
       "75%                   NaN             NaN               NaN   \n",
       "max                   NaN             NaN               NaN   \n",
       "\n",
       "       pub_rec_bankruptcies  tax_liens  tot_hi_cred_lim  total_bal_ex_mort  \\\n",
       "count          39020.000000    39678.0              0.0                0.0   \n",
       "mean               0.043260        0.0              NaN                NaN   \n",
       "std                0.204324        0.0              NaN                NaN   \n",
       "min                0.000000        0.0              NaN                NaN   \n",
       "25%                0.000000        0.0              NaN                NaN   \n",
       "50%                0.000000        0.0              NaN                NaN   \n",
       "75%                0.000000        0.0              NaN                NaN   \n",
       "max                2.000000        0.0              NaN                NaN   \n",
       "\n",
       "       total_bc_limit  total_il_high_credit_limit  \n",
       "count             0.0                         0.0  \n",
       "mean              NaN                         NaN  \n",
       "std               NaN                         NaN  \n",
       "min               NaN                         NaN  \n",
       "25%               NaN                         NaN  \n",
       "50%               NaN                         NaN  \n",
       "75%               NaN                         NaN  \n",
       "max               NaN                         NaN  \n",
       "\n",
       "[8 rows x 87 columns]"
      ]
     },
     "execution_count": 137,
     "metadata": {},
     "output_type": "execute_result"
    }
   ],
   "source": [
    "data_set.describe()"
   ]
  },
  {
   "cell_type": "code",
   "execution_count": 139,
   "id": "bfdf2efd",
   "metadata": {},
   "outputs": [
    {
     "data": {
      "text/plain": [
       "(39717, 111)"
      ]
     },
     "execution_count": 139,
     "metadata": {},
     "output_type": "execute_result"
    }
   ],
   "source": [
    "data_set.shape"
   ]
  },
  {
   "cell_type": "markdown",
   "id": "1f57391f",
   "metadata": {},
   "source": [
    "## Categorize the data based on the consumption\n",
    "\n",
    "Analyse the columns in the data set and categorise then based on the impact they have in our decision making process"
   ]
  },
  {
   "cell_type": "code",
   "execution_count": 141,
   "id": "099d25ce",
   "metadata": {},
   "outputs": [
    {
     "data": {
      "text/plain": [
       "Index(['id', 'member_id', 'loan_amnt', 'funded_amnt', 'funded_amnt_inv',\n",
       "       'term', 'int_rate', 'installment', 'grade', 'sub_grade',\n",
       "       ...\n",
       "       'num_tl_90g_dpd_24m', 'num_tl_op_past_12m', 'pct_tl_nvr_dlq',\n",
       "       'percent_bc_gt_75', 'pub_rec_bankruptcies', 'tax_liens',\n",
       "       'tot_hi_cred_lim', 'total_bal_ex_mort', 'total_bc_limit',\n",
       "       'total_il_high_credit_limit'],\n",
       "      dtype='object', length=111)"
      ]
     },
     "execution_count": 141,
     "metadata": {},
     "output_type": "execute_result"
    }
   ],
   "source": [
    "data_set.columns"
   ]
  },
  {
   "cell_type": "markdown",
   "id": "2295edfe",
   "metadata": {},
   "source": [
    "### Fields present in the data set: \n",
    "\n",
    "#### Personal information \n",
    "- id\n",
    "- member_id\n",
    "- annual_inc\n",
    "- annual_inc_joint\n",
    "- emp_length\n",
    "- emp_title\n",
    "- grade\n",
    "- home_ownership\n",
    "- addr_state\n",
    "- zip_code\n",
    "- verification_status\n",
    "- verified_status_joint\n",
    "\n",
    "#### Loan Information\n",
    "\n",
    "- title\n",
    "- desc\n",
    "- application_type\n",
    "- avg_cur_bal\n",
    "- acc_now_delinq\n",
    "- acc_open_past_24mths\n",
    "- chargeoff_within_12_mths\n",
    "- collection_recovery_fee\n",
    "- collections_12_mths_ex_med\n",
    "- delinq_2yrs\n",
    "- delinq_amnt\n",
    "- fico_range_high\n",
    "- fico_range_low\n",
    "- funded_amnt\n",
    "- funded_amnt_inv\n",
    "- initial_list_status\n",
    "- installment\n",
    "- int_rate\n",
    "- issue_d\n",
    "- last_credit_pull_d\n",
    "- last_fico_range_high\n",
    "- last_fico_range_low\n",
    "- last_pymnt_amnt\n",
    "- last_pymnt_d\n",
    "- loan_amnt\n",
    "- loan_status\n",
    "- mo_sin_old_il_acct\n",
    "- mo_sin_old_rev_tl_op\n",
    "- mo_sin_rcnt_rev_tl_op\n",
    "- mo_sin_rcnt_tl\n",
    "- mort_acc\n",
    "- mths_since_last_delinq\n",
    "- mths_since_last_major_derog\n",
    "- mths_since_last_record\n",
    "- mths_since_rcnt_il\n",
    "- mths_since_recent_bc\n",
    "- mths_since_recent_bc_dlq\n",
    "- mths_since_recent_inq\n",
    "- mths_since_recent_revol_delinq\n",
    "- next_pymnt_d\n",
    "- num_accts_ever_120_pd\n",
    "- num_actv_bc_tl\n",
    "- num_actv_rev_tl\n",
    "- num_bc_sats\n",
    "- num_bc_tl\n",
    "- num_il_tl\n",
    "- num_op_rev_tl\n",
    "- num_rev_accts\n",
    "- num_rev_tl_bal_gt_0\n",
    "- num_sats\n",
    "- num_tl_120dpd_2m\n",
    "- num_tl_30dpd\n",
    "- num_tl_90g_dpd_24m\n",
    "- num_tl_op_past_12m\n",
    "- open_acc\n",
    "- open_acc_6m\n",
    "- open_il_12m\n",
    "- open_il_24m\n",
    "- open_il_6m\n",
    "- open_rv_12m\n",
    "- open_rv_24m\n",
    "- out_prncp\n",
    "- out_prncp_inv\n",
    "- pct_tl_nvr_dlq\n",
    "- percent_bc_gt_75\n",
    "- policy_code\n",
    "- pub_rec\n",
    "- pub_rec_bankruptcies\n",
    "- purpose\n",
    "- pymnt_plan\n",
    "- recoveries\n",
    "- revol_bal\n",
    "- revol_util\n",
    "- sub_grade\n",
    "- tax_liens\n",
    "- term\n",
    "- tot_coll_amt\n",
    "- tot_cur_bal\n",
    "- tot_hi_cred_lim\n",
    "- total_acc\n",
    "- total_bal_ex_mort\n",
    "- total_bal_il\n",
    "- total_bc_limit\n",
    "- total_cu_tl\n",
    "- total_il_high_credit_limit\n",
    "- total_pymnt\n",
    "- total_pymnt_inv\n",
    "- total_rec_int\n",
    "- total_rec_late_fee\n",
    "- total_rec_prncp\n",
    "- total_rev_hi_lim  \n",
    "- url\n",
    "\n",
    "\n",
    "#### Credit Information\n",
    "- dti\n",
    "- dti_joint\n",
    "- all_util\n",
    "- bc_util\n",
    "- il_util\n",
    "- earliest_cr_line\n",
    "- max_bal_bc\n",
    "- bc_open_to_buy\n",
    "- inq_fi\n",
    "- inq_last_12m\n",
    "- inq_last_6mths\n"
   ]
  },
  {
   "cell_type": "markdown",
   "id": "6caa5065",
   "metadata": {},
   "source": [
    "## Data Cleansing \n",
    "\n",
    "#### Columns to be dropped \n",
    "\n",
    "It is clear that the data set has many columns that may not be useful in identifying risky applicants. Hence, we can remove them from the data set for easier analysis. \n",
    "\n",
    "The below data are relevant are personal and of no use for our analysis:\n",
    "\n",
    "- url\n",
    "- emp_title\n",
    "- zip_code\n",
    "- addr_state\n",
    "\n",
    "The below Loan related columns are of no use to us in perfoming the analysis:\n",
    "- last_credit_pull_d\n",
    "- desc\n",
    "- title\n",
    "- out_prncp_inv \n",
    "- total_pymnt_inv \n",
    "\n",
    "\n",
    "The below information becomes only relevant after the loan approval process. Since we are not interested in already approved loans and the process around it, we can delete the below rows as well:\n",
    "\n",
    "- delinq_2yrs\n",
    "- earliest_cr_line\n",
    "- inq_last_6mths\n",
    "- acc_now_delinq\n",
    "- open_acc\n",
    "- pub_rec\n",
    "- revol_bal\n",
    "- total_acc\n",
    "- out_prncp\n",
    "- out_prncp_inv\n",
    "- total_pymnt\n",
    "- total_pymnt_inv\n",
    "- total_rec_prncp\n",
    "- total_rec_int\n",
    "- total_rec_late_fee\n",
    "- recoveries\n",
    "- collection_recovery_fee\n",
    "- last_pymnt_d\n",
    "- last_pymnt_amnt\n",
    "- next_pymnt_d\n",
    "- last_credit_pull_d\n",
    "- application_type\n",
    "- pymnt_plan\n",
    "- initial_list_status\n",
    "- collections_12_mths_ex_med\n",
    "- policy_code\n",
    "- tax_liens"
   ]
  },
  {
   "cell_type": "code",
   "execution_count": 143,
   "id": "59769265",
   "metadata": {},
   "outputs": [],
   "source": [
    "data_set.drop([\"url\",\"title\",\"emp_title\",\"zip_code\",\"addr_state\",\"last_credit_pull_d\", \"desc\",\"out_prncp_inv\",\"total_pymnt_inv\",\"delinq_2yrs\", \"earliest_cr_line\", \"inq_last_6mths\"\n",
    ", \"open_acc\", \"pub_rec\",\"revol_bal\", \"total_acc\", \"out_prncp\", \"out_prncp_inv\", \"total_pymnt\", \"total_pymnt_inv\"\n",
    ", \"total_rec_prncp\",\"total_rec_int\",\"total_rec_late_fee\",\"recoveries\",\"collection_recovery_fee\",\"last_pymnt_d\",\"last_pymnt_amnt\"\n",
    "               ,\"next_pymnt_d\",\"last_credit_pull_d\",\"application_type\",\"tax_liens\", \"pymnt_plan\",\"policy_code\", \"acc_now_delinq\", \"initial_list_status\", \"collections_12_mths_ex_med\" ], axis = 1, inplace = True)\n"
   ]
  },
  {
   "cell_type": "code",
   "execution_count": 145,
   "id": "334a7526",
   "metadata": {},
   "outputs": [
    {
     "data": {
      "text/plain": [
       "(39717, 78)"
      ]
     },
     "execution_count": 145,
     "metadata": {},
     "output_type": "execute_result"
    }
   ],
   "source": [
    "data_set.shape"
   ]
  },
  {
   "cell_type": "markdown",
   "id": "d87adf00",
   "metadata": {},
   "source": [
    "We reduced the columns from 111 to 78 by performing the above clean up. "
   ]
  },
  {
   "cell_type": "markdown",
   "id": "724ddab0",
   "metadata": {},
   "source": [
    "#### Null value columns removal \n",
    "\n",
    "There are many columns with null values only present in it. We can remove them from the data set, as they wont be of any help to us. "
   ]
  },
  {
   "cell_type": "code",
   "execution_count": 147,
   "id": "73576010",
   "metadata": {},
   "outputs": [
    {
     "data": {
      "text/plain": [
       "id                                0\n",
       "member_id                         0\n",
       "loan_amnt                         0\n",
       "funded_amnt                       0\n",
       "funded_amnt_inv                   0\n",
       "                              ...  \n",
       "tax_liens                        39\n",
       "tot_hi_cred_lim               39717\n",
       "total_bal_ex_mort             39717\n",
       "total_bc_limit                39717\n",
       "total_il_high_credit_limit    39717\n",
       "Length: 111, dtype: int64"
      ]
     },
     "execution_count": 147,
     "metadata": {},
     "output_type": "execute_result"
    }
   ],
   "source": [
    "data_set.isnull().sum()"
   ]
  },
  {
   "cell_type": "code",
   "execution_count": 149,
   "id": "73d5b32f",
   "metadata": {},
   "outputs": [
    {
     "data": {
      "text/plain": [
       "(39717, 57)"
      ]
     },
     "execution_count": 149,
     "metadata": {},
     "output_type": "execute_result"
    }
   ],
   "source": [
    "data_set.dropna(axis = 1, how = 'all', inplace = True)\n",
    "data_set.shape"
   ]
  },
  {
   "cell_type": "markdown",
   "id": "4fc691f4",
   "metadata": {},
   "source": [
    "We have now reduced the columns to 24 from then orignal number of 111. "
   ]
  },
  {
   "cell_type": "code",
   "execution_count": 150,
   "id": "7d581aec",
   "metadata": {},
   "outputs": [
    {
     "data": {
      "text/plain": [
       "Index(['id', 'member_id', 'loan_amnt', 'funded_amnt', 'funded_amnt_inv',\n",
       "       'term', 'int_rate', 'installment', 'grade', 'sub_grade', 'emp_title',\n",
       "       'emp_length', 'home_ownership', 'annual_inc', 'verification_status',\n",
       "       'issue_d', 'loan_status', 'pymnt_plan', 'url', 'desc', 'purpose',\n",
       "       'title', 'zip_code', 'addr_state', 'dti', 'delinq_2yrs',\n",
       "       'earliest_cr_line', 'inq_last_6mths', 'mths_since_last_delinq',\n",
       "       'mths_since_last_record', 'open_acc', 'pub_rec', 'revol_bal',\n",
       "       'revol_util', 'total_acc', 'initial_list_status', 'out_prncp',\n",
       "       'out_prncp_inv', 'total_pymnt', 'total_pymnt_inv', 'total_rec_prncp',\n",
       "       'total_rec_int', 'total_rec_late_fee', 'recoveries',\n",
       "       'collection_recovery_fee', 'last_pymnt_d', 'last_pymnt_amnt',\n",
       "       'next_pymnt_d', 'last_credit_pull_d', 'collections_12_mths_ex_med',\n",
       "       'policy_code', 'application_type', 'acc_now_delinq',\n",
       "       'chargeoff_within_12_mths', 'delinq_amnt', 'pub_rec_bankruptcies',\n",
       "       'tax_liens'],\n",
       "      dtype='object')"
      ]
     },
     "execution_count": 150,
     "metadata": {},
     "output_type": "execute_result"
    }
   ],
   "source": [
    "data_set.columns"
   ]
  },
  {
   "cell_type": "markdown",
   "id": "0082e2de",
   "metadata": {},
   "source": [
    "### Removing Loans with not relevant status value \n",
    "\n",
    "Let us now remove the loans that are marked as CURRENT. Since the data set does not provide information on the EMI's missed we cannot use the data of CURRENT loans to perform our analysis. We will focus on FULLY PAID and CHARGED OFF Loans only "
   ]
  },
  {
   "cell_type": "code",
   "execution_count": 151,
   "id": "4b288b2c",
   "metadata": {},
   "outputs": [
    {
     "data": {
      "text/plain": [
       "(38577, 57)"
      ]
     },
     "execution_count": 151,
     "metadata": {},
     "output_type": "execute_result"
    }
   ],
   "source": [
    "data_set = data_set[data_set.loan_status != \"Current\"]\n",
    "data_set.shape"
   ]
  },
  {
   "cell_type": "code",
   "execution_count": 152,
   "id": "bc20998b",
   "metadata": {},
   "outputs": [
    {
     "data": {
      "text/plain": [
       "array(['Fully Paid', 'Charged Off'], dtype=object)"
      ]
     },
     "execution_count": 152,
     "metadata": {},
     "output_type": "execute_result"
    }
   ],
   "source": [
    "data_set.loan_status.unique()"
   ]
  },
  {
   "cell_type": "markdown",
   "id": "4f44baca",
   "metadata": {},
   "source": [
    "Let us now download the data set to analyse in excel and view the cleansed data"
   ]
  },
  {
   "cell_type": "code",
   "execution_count": 153,
   "id": "5fdc4930",
   "metadata": {},
   "outputs": [],
   "source": [
    "data_set.to_csv(\"loans_cleansed.csv\")"
   ]
  },
  {
   "cell_type": "markdown",
   "id": "c4fb77d9",
   "metadata": {},
   "source": [
    "### Removing columns with same value present in all rows\n",
    "\n",
    "From the downloaded excel, it was clear that there are columns where all the rows have the same value. This will not help us in the analysis and hence can be deleted. "
   ]
  },
  {
   "cell_type": "code",
   "execution_count": 154,
   "id": "43a8b080",
   "metadata": {},
   "outputs": [],
   "source": [
    "data_set = data_set.drop(['delinq_amnt'], axis=1)"
   ]
  },
  {
   "cell_type": "code",
   "execution_count": 155,
   "id": "223876eb",
   "metadata": {},
   "outputs": [
    {
     "data": {
      "text/plain": [
       "(38577, 56)"
      ]
     },
     "execution_count": 155,
     "metadata": {},
     "output_type": "execute_result"
    }
   ],
   "source": [
    "data_set.shape"
   ]
  },
  {
   "cell_type": "markdown",
   "id": "a17e1f31",
   "metadata": {},
   "source": [
    "### Convert the Employee Length field to have only numbers\n",
    "\n",
    "The data present in the employee lenght (no of years of experience) are character based. In order to perform some analysis on it, we would have to convert to numeric."
   ]
  },
  {
   "cell_type": "code",
   "execution_count": 156,
   "id": "2ab2d491",
   "metadata": {},
   "outputs": [
    {
     "name": "stderr",
     "output_type": "stream",
     "text": [
      "/var/folders/cq/3_v0kxk56d79810f6w5gbnkr0000gn/T/ipykernel_25968/2336776962.py:4: SettingWithCopyWarning: \n",
      "A value is trying to be set on a copy of a slice from a DataFrame\n",
      "\n",
      "See the caveats in the documentation: https://pandas.pydata.org/pandas-docs/stable/user_guide/indexing.html#returning-a-view-versus-a-copy\n",
      "  data_set['emp_length'][data_set['emp_length'] == '< 1'] = '0.5'\n"
     ]
    },
    {
     "data": {
      "text/plain": [
       "0     10\n",
       "1    0.5\n",
       "2     10\n",
       "3     10\n",
       "5      3\n",
       "Name: emp_length, dtype: object"
      ]
     },
     "execution_count": 156,
     "metadata": {},
     "output_type": "execute_result"
    }
   ],
   "source": [
    "data_set.emp_length.fillna('0',inplace=True)\n",
    "data_set['emp_length'] = data_set['emp_length'].str.rstrip('years ')\n",
    "data_set['emp_length'].replace({'10+': '10'}, inplace=True)\n",
    "data_set['emp_length'][data_set['emp_length'] == '< 1'] = '0.5'\n",
    "data_set['emp_length'].head()"
   ]
  },
  {
   "cell_type": "markdown",
   "id": "10ff2bb5",
   "metadata": {},
   "source": [
    "### Clean up the field pub_rec_bankruptcies\n",
    "\n",
    "The field pub_rec_bankruptcies has many blank values present. We need to clean this up for better analysis."
   ]
  },
  {
   "cell_type": "code",
   "execution_count": 157,
   "id": "efe44fe1",
   "metadata": {},
   "outputs": [
    {
     "data": {
      "text/plain": [
       "697"
      ]
     },
     "execution_count": 157,
     "metadata": {},
     "output_type": "execute_result"
    }
   ],
   "source": [
    "data_set.pub_rec_bankruptcies.isnull().sum()"
   ]
  },
  {
   "cell_type": "code",
   "execution_count": 158,
   "id": "491e41e2",
   "metadata": {},
   "outputs": [],
   "source": [
    "data_set.fillna('Not Known',inplace=True)"
   ]
  },
  {
   "cell_type": "code",
   "execution_count": 159,
   "id": "438c0403",
   "metadata": {},
   "outputs": [
    {
     "data": {
      "text/plain": [
       "0"
      ]
     },
     "execution_count": 159,
     "metadata": {},
     "output_type": "execute_result"
    }
   ],
   "source": [
    "data_set.pub_rec_bankruptcies.isnull().sum()"
   ]
  },
  {
   "cell_type": "markdown",
   "id": "c9c0d8a5",
   "metadata": {},
   "source": [
    "### Clean up the interest field and Revol_util field \n",
    "\n",
    "The interest field and revol_util field both have % symbol in them. Hence, data cleansing is requried to remove this and make the data a whole number. "
   ]
  },
  {
   "cell_type": "code",
   "execution_count": 160,
   "id": "0b7223e9",
   "metadata": {},
   "outputs": [],
   "source": [
    "data_set['int_rate'] = data_set['int_rate'].str.rstrip('%')"
   ]
  },
  {
   "cell_type": "code",
   "execution_count": 161,
   "id": "ff1acb78",
   "metadata": {},
   "outputs": [
    {
     "data": {
      "text/plain": [
       "0    10.65\n",
       "1    15.27\n",
       "2    15.96\n",
       "3    13.49\n",
       "5     7.90\n",
       "Name: int_rate, dtype: object"
      ]
     },
     "execution_count": 161,
     "metadata": {},
     "output_type": "execute_result"
    }
   ],
   "source": [
    "data_set['int_rate'].head()"
   ]
  },
  {
   "cell_type": "code",
   "execution_count": 162,
   "id": "cf7dab9c",
   "metadata": {},
   "outputs": [
    {
     "data": {
      "text/plain": [
       "0        83.70\n",
       "1         9.40\n",
       "2        98.50\n",
       "3           21\n",
       "5        28.30\n",
       "         ...  \n",
       "39712    13.10\n",
       "39713    26.90\n",
       "39714    19.40\n",
       "39715     0.70\n",
       "39716    51.50\n",
       "Name: revol_util, Length: 38577, dtype: object"
      ]
     },
     "execution_count": 162,
     "metadata": {},
     "output_type": "execute_result"
    }
   ],
   "source": [
    "data_set['revol_util'] = data_set['revol_util'].str.rstrip('%')\n",
    "data_set['revol_util']"
   ]
  },
  {
   "cell_type": "markdown",
   "id": "58c5f457",
   "metadata": {},
   "source": [
    "### Clean up the term field\n",
    "\n",
    "The term field has \"months\" added to the data. We will clean this up and make it just a number. "
   ]
  },
  {
   "cell_type": "code",
   "execution_count": 163,
   "id": "a4e29cfc",
   "metadata": {},
   "outputs": [],
   "source": [
    "data_set['term'] = data_set['term'].str.rstrip('months')"
   ]
  },
  {
   "cell_type": "markdown",
   "id": "ea23a637",
   "metadata": {},
   "source": [
    "### Convert the columns to numeric data type\n",
    "\n",
    "We did clean up of many columns and also there are already existing columns where non numeric data types are used. We will not convert that to numeric data type for the analysis to be performed. "
   ]
  },
  {
   "cell_type": "code",
   "execution_count": 164,
   "id": "41e4c031",
   "metadata": {},
   "outputs": [
    {
     "data": {
      "text/plain": [
       "Index(['id', 'member_id', 'loan_amnt', 'funded_amnt', 'funded_amnt_inv',\n",
       "       'term', 'int_rate', 'installment', 'grade', 'sub_grade', 'emp_title',\n",
       "       'emp_length', 'home_ownership', 'annual_inc', 'verification_status',\n",
       "       'issue_d', 'loan_status', 'pymnt_plan', 'url', 'desc', 'purpose',\n",
       "       'title', 'zip_code', 'addr_state', 'dti', 'delinq_2yrs',\n",
       "       'earliest_cr_line', 'inq_last_6mths', 'mths_since_last_delinq',\n",
       "       'mths_since_last_record', 'open_acc', 'pub_rec', 'revol_bal',\n",
       "       'revol_util', 'total_acc', 'initial_list_status', 'out_prncp',\n",
       "       'out_prncp_inv', 'total_pymnt', 'total_pymnt_inv', 'total_rec_prncp',\n",
       "       'total_rec_int', 'total_rec_late_fee', 'recoveries',\n",
       "       'collection_recovery_fee', 'last_pymnt_d', 'last_pymnt_amnt',\n",
       "       'next_pymnt_d', 'last_credit_pull_d', 'collections_12_mths_ex_med',\n",
       "       'policy_code', 'application_type', 'acc_now_delinq',\n",
       "       'chargeoff_within_12_mths', 'pub_rec_bankruptcies', 'tax_liens'],\n",
       "      dtype='object')"
      ]
     },
     "execution_count": 164,
     "metadata": {},
     "output_type": "execute_result"
    }
   ],
   "source": [
    "data_set.columns"
   ]
  },
  {
   "cell_type": "code",
   "execution_count": 165,
   "id": "5c0fe7fc",
   "metadata": {},
   "outputs": [
    {
     "name": "stdout",
     "output_type": "stream",
     "text": [
      "<class 'pandas.core.frame.DataFrame'>\n",
      "Int64Index: 38577 entries, 0 to 39716\n",
      "Data columns (total 56 columns):\n",
      " #   Column                      Non-Null Count  Dtype  \n",
      "---  ------                      --------------  -----  \n",
      " 0   id                          38577 non-null  int64  \n",
      " 1   member_id                   38577 non-null  int64  \n",
      " 2   loan_amnt                   38577 non-null  int64  \n",
      " 3   funded_amnt                 38577 non-null  int64  \n",
      " 4   funded_amnt_inv             38577 non-null  float64\n",
      " 5   term                        38577 non-null  int64  \n",
      " 6   int_rate                    38577 non-null  float64\n",
      " 7   installment                 38577 non-null  float64\n",
      " 8   grade                       38577 non-null  object \n",
      " 9   sub_grade                   38577 non-null  object \n",
      " 10  emp_title                   38577 non-null  object \n",
      " 11  emp_length                  38577 non-null  float64\n",
      " 12  home_ownership              38577 non-null  object \n",
      " 13  annual_inc                  38577 non-null  float64\n",
      " 14  verification_status         38577 non-null  object \n",
      " 15  issue_d                     38577 non-null  object \n",
      " 16  loan_status                 38577 non-null  object \n",
      " 17  pymnt_plan                  38577 non-null  object \n",
      " 18  url                         38577 non-null  object \n",
      " 19  desc                        38577 non-null  object \n",
      " 20  purpose                     38577 non-null  object \n",
      " 21  title                       38577 non-null  object \n",
      " 22  zip_code                    38577 non-null  object \n",
      " 23  addr_state                  38577 non-null  object \n",
      " 24  dti                         38577 non-null  float64\n",
      " 25  delinq_2yrs                 38577 non-null  int64  \n",
      " 26  earliest_cr_line            38577 non-null  object \n",
      " 27  inq_last_6mths              38577 non-null  int64  \n",
      " 28  mths_since_last_delinq      38577 non-null  object \n",
      " 29  mths_since_last_record      38577 non-null  object \n",
      " 30  open_acc                    38577 non-null  int64  \n",
      " 31  pub_rec                     38577 non-null  int64  \n",
      " 32  revol_bal                   38577 non-null  int64  \n",
      " 33  revol_util                  38577 non-null  object \n",
      " 34  total_acc                   38577 non-null  int64  \n",
      " 35  initial_list_status         38577 non-null  object \n",
      " 36  out_prncp                   38577 non-null  float64\n",
      " 37  out_prncp_inv               38577 non-null  float64\n",
      " 38  total_pymnt                 38577 non-null  float64\n",
      " 39  total_pymnt_inv             38577 non-null  float64\n",
      " 40  total_rec_prncp             38577 non-null  float64\n",
      " 41  total_rec_int               38577 non-null  float64\n",
      " 42  total_rec_late_fee          38577 non-null  float64\n",
      " 43  recoveries                  38577 non-null  float64\n",
      " 44  collection_recovery_fee     38577 non-null  float64\n",
      " 45  last_pymnt_d                38577 non-null  object \n",
      " 46  last_pymnt_amnt             38577 non-null  float64\n",
      " 47  next_pymnt_d                38577 non-null  object \n",
      " 48  last_credit_pull_d          38577 non-null  object \n",
      " 49  collections_12_mths_ex_med  38577 non-null  object \n",
      " 50  policy_code                 38577 non-null  int64  \n",
      " 51  application_type            38577 non-null  object \n",
      " 52  acc_now_delinq              38577 non-null  int64  \n",
      " 53  chargeoff_within_12_mths    38577 non-null  object \n",
      " 54  pub_rec_bankruptcies        38577 non-null  object \n",
      " 55  tax_liens                   38577 non-null  object \n",
      "dtypes: float64(16), int64(13), object(27)\n",
      "memory usage: 16.8+ MB\n"
     ]
    }
   ],
   "source": [
    "columns = ['loan_amnt', 'funded_amnt', 'funded_amnt_inv',\n",
    "       'term', 'int_rate', 'installment', 'emp_length','annual_inc', 'dti']\n",
    "\n",
    "data_set[columns] = data_set[columns].apply(pd.to_numeric)\n",
    "data_set.info()"
   ]
  },
  {
   "cell_type": "markdown",
   "id": "0f7bf152",
   "metadata": {},
   "source": [
    "## Derived Variates\n",
    "\n",
    "\n",
    "Let us now look at how we can add additional columns to the data set, to make it richer and help our analysis process."
   ]
  },
  {
   "cell_type": "markdown",
   "id": "69024689",
   "metadata": {},
   "source": [
    "### Deriving Month and Year from Issued Date\n",
    "\n",
    "Let us try to split the column issued_d to get two new columns: issued_month and issued_year"
   ]
  },
  {
   "cell_type": "code",
   "execution_count": 197,
   "id": "ba38eabe",
   "metadata": {},
   "outputs": [
    {
     "name": "stderr",
     "output_type": "stream",
     "text": [
      "/var/folders/cq/3_v0kxk56d79810f6w5gbnkr0000gn/T/ipykernel_25968/1604959216.py:1: FutureWarning: Columnar iteration over characters will be deprecated in future releases.\n",
      "  data_set['issued_month'], data_set['issued_year'] = data_set['issue_d'].str.split('-').str\n"
     ]
    },
    {
     "name": "stdout",
     "output_type": "stream",
     "text": [
      "<class 'pandas.core.frame.DataFrame'>\n",
      "Int64Index: 38577 entries, 0 to 39716\n",
      "Data columns (total 59 columns):\n",
      " #   Column                      Non-Null Count  Dtype  \n",
      "---  ------                      --------------  -----  \n",
      " 0   id                          38577 non-null  int64  \n",
      " 1   member_id                   38577 non-null  int64  \n",
      " 2   loan_amnt                   38577 non-null  int64  \n",
      " 3   funded_amnt                 38577 non-null  int64  \n",
      " 4   funded_amnt_inv             38577 non-null  float64\n",
      " 5   term                        38577 non-null  int64  \n",
      " 6   int_rate                    38577 non-null  float64\n",
      " 7   installment                 38577 non-null  float64\n",
      " 8   grade                       38577 non-null  object \n",
      " 9   sub_grade                   38577 non-null  object \n",
      " 10  emp_title                   38577 non-null  object \n",
      " 11  emp_length                  38577 non-null  float64\n",
      " 12  home_ownership              38577 non-null  object \n",
      " 13  annual_inc                  38577 non-null  float64\n",
      " 14  verification_status         38577 non-null  object \n",
      " 15  issue_d                     38577 non-null  object \n",
      " 16  loan_status                 38577 non-null  object \n",
      " 17  pymnt_plan                  38577 non-null  object \n",
      " 18  url                         38577 non-null  object \n",
      " 19  desc                        38577 non-null  object \n",
      " 20  purpose                     38577 non-null  object \n",
      " 21  title                       38577 non-null  object \n",
      " 22  zip_code                    38577 non-null  object \n",
      " 23  addr_state                  38577 non-null  object \n",
      " 24  dti                         38577 non-null  float64\n",
      " 25  delinq_2yrs                 38577 non-null  int64  \n",
      " 26  earliest_cr_line            38577 non-null  object \n",
      " 27  inq_last_6mths              38577 non-null  int64  \n",
      " 28  mths_since_last_delinq      38577 non-null  object \n",
      " 29  mths_since_last_record      38577 non-null  object \n",
      " 30  open_acc                    38577 non-null  int64  \n",
      " 31  pub_rec                     38577 non-null  int64  \n",
      " 32  revol_bal                   38577 non-null  int64  \n",
      " 33  revol_util                  38577 non-null  object \n",
      " 34  total_acc                   38577 non-null  int64  \n",
      " 35  initial_list_status         38577 non-null  object \n",
      " 36  out_prncp                   38577 non-null  float64\n",
      " 37  out_prncp_inv               38577 non-null  float64\n",
      " 38  total_pymnt                 38577 non-null  float64\n",
      " 39  total_pymnt_inv             38577 non-null  float64\n",
      " 40  total_rec_prncp             38577 non-null  float64\n",
      " 41  total_rec_int               38577 non-null  float64\n",
      " 42  total_rec_late_fee          38577 non-null  float64\n",
      " 43  recoveries                  38577 non-null  float64\n",
      " 44  collection_recovery_fee     38577 non-null  float64\n",
      " 45  last_pymnt_d                38577 non-null  object \n",
      " 46  last_pymnt_amnt             38577 non-null  float64\n",
      " 47  next_pymnt_d                38577 non-null  object \n",
      " 48  last_credit_pull_d          38577 non-null  object \n",
      " 49  collections_12_mths_ex_med  38577 non-null  object \n",
      " 50  policy_code                 38577 non-null  int64  \n",
      " 51  application_type            38577 non-null  object \n",
      " 52  acc_now_delinq              38577 non-null  int64  \n",
      " 53  chargeoff_within_12_mths    38577 non-null  object \n",
      " 54  pub_rec_bankruptcies        38577 non-null  object \n",
      " 55  tax_liens                   38577 non-null  object \n",
      " 56  issued_month                38577 non-null  object \n",
      " 57  issued_year                 38577 non-null  int16  \n",
      " 58  loan_ratio                  38577 non-null  float64\n",
      "dtypes: float64(17), int16(1), int64(13), object(28)\n",
      "memory usage: 17.4+ MB\n"
     ]
    }
   ],
   "source": [
    "data_set['issued_month'], data_set['issued_year'] = data_set['issue_d'].str.split('-').str\n",
    "data_set['issued_year'] = '20' + data_set['issued_year']\n",
    "data_set['issued_year'] = pd.to_numeric(data_set['issued_year'], downcast = 'integer')\n",
    "#data_set['issued_year'] = data_set['issued_year'].apply(pd.to_numeric(data_set.issued_year, downcast = 'integer'))\n",
    "data_set.info()"
   ]
  },
  {
   "cell_type": "code",
   "execution_count": 200,
   "id": "a47002c1",
   "metadata": {},
   "outputs": [
    {
     "data": {
      "text/html": [
       "<div>\n",
       "<style scoped>\n",
       "    .dataframe tbody tr th:only-of-type {\n",
       "        vertical-align: middle;\n",
       "    }\n",
       "\n",
       "    .dataframe tbody tr th {\n",
       "        vertical-align: top;\n",
       "    }\n",
       "\n",
       "    .dataframe thead th {\n",
       "        text-align: right;\n",
       "    }\n",
       "</style>\n",
       "<table border=\"1\" class=\"dataframe\">\n",
       "  <thead>\n",
       "    <tr style=\"text-align: right;\">\n",
       "      <th></th>\n",
       "      <th>issued_month</th>\n",
       "      <th>issued_year</th>\n",
       "    </tr>\n",
       "  </thead>\n",
       "  <tbody>\n",
       "    <tr>\n",
       "      <th>0</th>\n",
       "      <td>Dec</td>\n",
       "      <td>2011</td>\n",
       "    </tr>\n",
       "    <tr>\n",
       "      <th>1</th>\n",
       "      <td>Dec</td>\n",
       "      <td>2011</td>\n",
       "    </tr>\n",
       "    <tr>\n",
       "      <th>2</th>\n",
       "      <td>Dec</td>\n",
       "      <td>2011</td>\n",
       "    </tr>\n",
       "    <tr>\n",
       "      <th>3</th>\n",
       "      <td>Dec</td>\n",
       "      <td>2011</td>\n",
       "    </tr>\n",
       "    <tr>\n",
       "      <th>5</th>\n",
       "      <td>Dec</td>\n",
       "      <td>2011</td>\n",
       "    </tr>\n",
       "  </tbody>\n",
       "</table>\n",
       "</div>"
      ],
      "text/plain": [
       "  issued_month  issued_year\n",
       "0          Dec         2011\n",
       "1          Dec         2011\n",
       "2          Dec         2011\n",
       "3          Dec         2011\n",
       "5          Dec         2011"
      ]
     },
     "execution_count": 200,
     "metadata": {},
     "output_type": "execute_result"
    }
   ],
   "source": [
    "data_set[['issued_month','issued_year']].head()\n"
   ]
  },
  {
   "cell_type": "markdown",
   "id": "e136b883",
   "metadata": {},
   "source": [
    "### Loan Ratio \n",
    "\n",
    "Let us now create a new column called Loan Ration using the formula loan_ration = funded_amnt/annual_inc\n"
   ]
  },
  {
   "cell_type": "code",
   "execution_count": 201,
   "id": "c7afc281",
   "metadata": {},
   "outputs": [
    {
     "data": {
      "text/plain": [
       "0    20.833333\n",
       "1     8.333333\n",
       "2    19.588639\n",
       "3    20.325203\n",
       "5    13.888889\n",
       "Name: loan_ratio, dtype: float64"
      ]
     },
     "execution_count": 201,
     "metadata": {},
     "output_type": "execute_result"
    }
   ],
   "source": [
    "data_set['loan_ratio'] = (data_set.funded_amnt/data_set.annual_inc)*100\n",
    "data_set['loan_ratio'].head()"
   ]
  },
  {
   "cell_type": "markdown",
   "id": "8d057dbc",
   "metadata": {},
   "source": [
    "## Univariate Analysis\n",
    "\n",
    "As we have now done a good amount of data cleansing, we can start applying concepts of univariate analysis on the columns to get some inference. "
   ]
  },
  {
   "cell_type": "markdown",
   "id": "bac45915",
   "metadata": {},
   "source": [
    "### Distribution of the laons across emp_lenght\n",
    "\n",
    "Let us look at how the loans are distributed across the values of emp_length. "
   ]
  },
  {
   "cell_type": "code",
   "execution_count": 202,
   "id": "38b6e48d",
   "metadata": {},
   "outputs": [
    {
     "data": {
      "text/plain": [
       "10.0    8488\n",
       "0.5     4508\n",
       "2.0     4291\n",
       "3.0     4012\n",
       "4.0     3342\n",
       "5.0     3194\n",
       "1.0     3169\n",
       "6.0     2168\n",
       "7.0     1711\n",
       "8.0     1435\n",
       "9.0     1226\n",
       "0.0     1033\n",
       "Name: emp_length, dtype: int64"
      ]
     },
     "execution_count": 202,
     "metadata": {},
     "output_type": "execute_result"
    }
   ],
   "source": [
    "data_set.emp_length.value_counts()"
   ]
  },
  {
   "cell_type": "markdown",
   "id": "27f3ba9b",
   "metadata": {},
   "source": [
    "From the above, it is clear that most of the loans are provided to employees who have 10 years of experience and more. Let us try to calculate the exact percentage. "
   ]
  },
  {
   "cell_type": "code",
   "execution_count": 203,
   "id": "e6d87416",
   "metadata": {},
   "outputs": [
    {
     "data": {
      "text/plain": [
       "45.207128324758465"
      ]
     },
     "execution_count": 203,
     "metadata": {},
     "output_type": "execute_result"
    }
   ],
   "source": [
    "per_10 = (data_set.emp_length.loc[data_set['emp_length'] == 10].sum()/data_set.emp_length.sum())*100\n",
    "per_10"
   ]
  },
  {
   "cell_type": "markdown",
   "id": "0bd642d9",
   "metadata": {},
   "source": [
    "Hence, we can come to the conclusion that 45 percent of laons approved are for customers who are working for 10 years or more. "
   ]
  },
  {
   "cell_type": "markdown",
   "id": "3097e713",
   "metadata": {},
   "source": [
    "### Distribution of loans across Loan Status\n",
    "\n",
    "Let us now see how the loans are distributed across the status field. This will give us an idea of how many laons are full paid against charged off. "
   ]
  },
  {
   "cell_type": "code",
   "execution_count": 204,
   "id": "5cfde66f",
   "metadata": {},
   "outputs": [
    {
     "data": {
      "text/plain": [
       "Fully Paid     32950\n",
       "Charged Off     5627\n",
       "Name: loan_status, dtype: int64"
      ]
     },
     "execution_count": 204,
     "metadata": {},
     "output_type": "execute_result"
    }
   ],
   "source": [
    "data_set.loan_status.value_counts()"
   ]
  },
  {
   "cell_type": "code",
   "execution_count": 205,
   "id": "b137db56",
   "metadata": {},
   "outputs": [
    {
     "data": {
      "text/plain": [
       "85.41358840760039"
      ]
     },
     "execution_count": 205,
     "metadata": {},
     "output_type": "execute_result"
    }
   ],
   "source": [
    "per_status = (len(data_set.loan_status.loc[data_set['loan_status'] == 'Fully Paid'])/len(data_set.loan_status))*100\n",
    "per_status"
   ]
  },
  {
   "cell_type": "markdown",
   "id": "9e8f9ebe",
   "metadata": {},
   "source": [
    "From the above, we can come to the conclusion taht around 85 percent of the loans are fully paid off and only around 15 percent loans are charged off. "
   ]
  },
  {
   "cell_type": "markdown",
   "id": "e07c95bc",
   "metadata": {},
   "source": [
    "### Loan Amount Distribution\n",
    "\n",
    "Let us plot a graph to see how the loan amounts are distributed"
   ]
  },
  {
   "cell_type": "code",
   "execution_count": 206,
   "id": "7b9b9d58",
   "metadata": {},
   "outputs": [
    {
     "name": "stderr",
     "output_type": "stream",
     "text": [
      "/Users/I018289/opt/anaconda3/lib/python3.9/site-packages/seaborn/_decorators.py:36: FutureWarning: Pass the following variable as a keyword arg: x. From version 0.12, the only valid positional argument will be `data`, and passing other arguments without an explicit keyword will result in an error or misinterpretation.\n",
      "  warnings.warn(\n"
     ]
    },
    {
     "data": {
      "text/plain": [
       "<AxesSubplot:xlabel='loan_amnt'>"
      ]
     },
     "execution_count": 206,
     "metadata": {},
     "output_type": "execute_result"
    },
    {
     "data": {
      "image/png": "[encoded data removed]",
      "text/plain": [
       "<Figure size 432x288 with 1 Axes>"
      ]
     },
     "metadata": {
      "needs_background": "light"
     },
     "output_type": "display_data"
    }
   ],
   "source": [
    "sns.boxplot(data_set.loan_amnt)"
   ]
  },
  {
   "cell_type": "code",
   "execution_count": 207,
   "id": "8c470187",
   "metadata": {},
   "outputs": [
    {
     "name": "stderr",
     "output_type": "stream",
     "text": [
      "/Users/I018289/opt/anaconda3/lib/python3.9/site-packages/seaborn/_decorators.py:36: FutureWarning: Pass the following variable as a keyword arg: x. From version 0.12, the only valid positional argument will be `data`, and passing other arguments without an explicit keyword will result in an error or misinterpretation.\n",
      "  warnings.warn(\n"
     ]
    },
    {
     "data": {
      "text/plain": [
       "<AxesSubplot:xlabel='funded_amnt_inv'>"
      ]
     },
     "execution_count": 207,
     "metadata": {},
     "output_type": "execute_result"
    },
    {
     "data": {
      "image/png": "[encoded data removed]",
      "text/plain": [
       "<Figure size 432x288 with 1 Axes>"
      ]
     },
     "metadata": {
      "needs_background": "light"
     },
     "output_type": "display_data"
    }
   ],
   "source": [
    "sns.boxplot(data_set.funded_amnt_inv)"
   ]
  },
  {
   "cell_type": "markdown",
   "id": "621f1f77",
   "metadata": {},
   "source": [
    "from the plot, we can infer the below:\n",
    "1. Loan amount varies from 0 to 35000\n",
    "2. Mean of the loan amount if around 10000\n",
    "3. The upper quartile is close to the highest value \n",
    "4. the lower quartile is closest to 0"
   ]
  },
  {
   "cell_type": "markdown",
   "id": "59ecd14b",
   "metadata": {},
   "source": [
    "### Annual Income Distribution\n",
    "\n",
    "Let us now plot a graph to see how the distribution of annual incomes are present in the data set."
   ]
  },
  {
   "cell_type": "code",
   "execution_count": 208,
   "id": "500a54e7",
   "metadata": {},
   "outputs": [
    {
     "name": "stderr",
     "output_type": "stream",
     "text": [
      "/Users/I018289/opt/anaconda3/lib/python3.9/site-packages/seaborn/_decorators.py:36: FutureWarning: Pass the following variable as a keyword arg: x. From version 0.12, the only valid positional argument will be `data`, and passing other arguments without an explicit keyword will result in an error or misinterpretation.\n",
      "  warnings.warn(\n"
     ]
    },
    {
     "data": {
      "text/plain": [
       "<AxesSubplot:xlabel='annual_inc'>"
      ]
     },
     "execution_count": 208,
     "metadata": {},
     "output_type": "execute_result"
    },
    {
     "data": {
      "image/png": "[encoded data removed]",
      "text/plain": [
       "<Figure size 432x288 with 1 Axes>"
      ]
     },
     "metadata": {
      "needs_background": "light"
     },
     "output_type": "display_data"
    }
   ],
   "source": [
    "sns.boxplot(data_set.annual_inc)"
   ]
  },
  {
   "cell_type": "markdown",
   "id": "5ff2c3b2",
   "metadata": {},
   "source": [
    "From the above, it is clear that there are outliners present in the data and hence the graph plotted is not consumable. \n",
    "\n",
    "Let us now try to calculate the percentile and make better use of this graph. The idea is to remove the outliers from the data set while we plot the graph"
   ]
  },
  {
   "cell_type": "code",
   "execution_count": 209,
   "id": "876c7f55",
   "metadata": {},
   "outputs": [
    {
     "data": {
      "text/plain": [
       "115000.0"
      ]
     },
     "execution_count": 209,
     "metadata": {},
     "output_type": "execute_result"
    }
   ],
   "source": [
    "annual_inc_90_percentile = data_set['annual_inc'].quantile(0.90)\n",
    "annual_inc_90_percentile"
   ]
  },
  {
   "cell_type": "code",
   "execution_count": 210,
   "id": "08e244b2",
   "metadata": {},
   "outputs": [
    {
     "name": "stderr",
     "output_type": "stream",
     "text": [
      "/Users/I018289/opt/anaconda3/lib/python3.9/site-packages/seaborn/_decorators.py:36: FutureWarning: Pass the following variable as a keyword arg: x. From version 0.12, the only valid positional argument will be `data`, and passing other arguments without an explicit keyword will result in an error or misinterpretation.\n",
      "  warnings.warn(\n"
     ]
    },
    {
     "data": {
      "text/plain": [
       "<AxesSubplot:xlabel='annual_inc'>"
      ]
     },
     "execution_count": 210,
     "metadata": {},
     "output_type": "execute_result"
    },
    {
     "data": {
      "image/png": "[encoded data removed]",
      "text/plain": [
       "<Figure size 432x288 with 1 Axes>"
      ]
     },
     "metadata": {
      "needs_background": "light"
     },
     "output_type": "display_data"
    }
   ],
   "source": [
    "data_set_2 = data_set[data_set.annual_inc <= annual_inc_90_percentile]\n",
    "sns.boxplot(data_set_2.annual_inc)"
   ]
  },
  {
   "cell_type": "markdown",
   "id": "6e621589",
   "metadata": {},
   "source": [
    "From this we can come to the below conclusion:\n",
    "1. Mean of the annual income is close to 6 lakhs\n",
    "2. Most of the loans are provided to annual income level between 4 lakhs and less than 8 lakhs (~7.5 lakhs)"
   ]
  },
  {
   "cell_type": "markdown",
   "id": "eba608d9",
   "metadata": {},
   "source": [
    "### Dept to Income Ratio Plotting\n",
    "\n",
    "Let us see how the dti value plotting looks like"
   ]
  },
  {
   "cell_type": "code",
   "execution_count": 211,
   "id": "070f0f21",
   "metadata": {},
   "outputs": [
    {
     "name": "stderr",
     "output_type": "stream",
     "text": [
      "/Users/I018289/opt/anaconda3/lib/python3.9/site-packages/seaborn/_decorators.py:36: FutureWarning: Pass the following variable as a keyword arg: x. From version 0.12, the only valid positional argument will be `data`, and passing other arguments without an explicit keyword will result in an error or misinterpretation.\n",
      "  warnings.warn(\n"
     ]
    },
    {
     "data": {
      "text/plain": [
       "<AxesSubplot:xlabel='dti'>"
      ]
     },
     "execution_count": 211,
     "metadata": {},
     "output_type": "execute_result"
    },
    {
     "data": {
      "image/png": "[encoded data removed]",
      "text/plain": [
       "<Figure size 432x288 with 1 Axes>"
      ]
     },
     "metadata": {
      "needs_background": "light"
     },
     "output_type": "display_data"
    }
   ],
   "source": [
    "sns.boxplot(data_set.dti)"
   ]
  },
  {
   "cell_type": "markdown",
   "id": "7b11bc96",
   "metadata": {},
   "source": [
    "From the above we can conclude that, most of the loans are provided to customers with dti value between 7.5 and 18. "
   ]
  },
  {
   "cell_type": "markdown",
   "id": "3a123a54",
   "metadata": {},
   "source": [
    "### Distribution of HOME OWNERSHIP data\n",
    "\n",
    "Let us look at how the distribution of loans are spread across applicants based on whether they have a owne house or rented house"
   ]
  },
  {
   "cell_type": "code",
   "execution_count": 212,
   "id": "2543e21c",
   "metadata": {},
   "outputs": [
    {
     "data": {
      "text/plain": [
       "<AxesSubplot:xlabel='home_ownership', ylabel='count'>"
      ]
     },
     "execution_count": 212,
     "metadata": {},
     "output_type": "execute_result"
    },
    {
     "data": {
      "image/png": "[encoded data removed]",
      "text/plain": [
       "<Figure size 432x288 with 1 Axes>"
      ]
     },
     "metadata": {
      "needs_background": "light"
     },
     "output_type": "display_data"
    }
   ],
   "source": [
    "sns.countplot(x = 'home_ownership', data = data_set)"
   ]
  },
  {
   "cell_type": "markdown",
   "id": "af0165ea",
   "metadata": {},
   "source": [
    "From the above, we can conclude that most of the laon applicants where the loans are either fully paid or charged off, are either on RENTED house or having a MORTAGED house. "
   ]
  },
  {
   "cell_type": "markdown",
   "id": "fb16108b",
   "metadata": {},
   "source": [
    "Let us try to see the trend of customers who have loan status as charged off against the home ownerhsip"
   ]
  },
  {
   "cell_type": "code",
   "execution_count": 213,
   "id": "e690d39f",
   "metadata": {},
   "outputs": [
    {
     "data": {
      "text/plain": [
       "<AxesSubplot:xlabel='home_ownership', ylabel='count'>"
      ]
     },
     "execution_count": 213,
     "metadata": {},
     "output_type": "execute_result"
    },
    {
     "data": {
      "image/png": "[encoded data removed]",
      "text/plain": [
       "<Figure size 432x288 with 1 Axes>"
      ]
     },
     "metadata": {
      "needs_background": "light"
     },
     "output_type": "display_data"
    }
   ],
   "source": [
    "sns.countplot(x='home_ownership', data = data_set[data_set['loan_status'] == 'Charged Off'])"
   ]
  },
  {
   "cell_type": "code",
   "execution_count": 214,
   "id": "b0e5e44b",
   "metadata": {},
   "outputs": [
    {
     "data": {
      "text/plain": [
       "<AxesSubplot:xlabel='home_ownership', ylabel='count'>"
      ]
     },
     "execution_count": 214,
     "metadata": {},
     "output_type": "execute_result"
    },
    {
     "data": {
      "image/png": "[encoded data removed]",
      "text/plain": [
       "<Figure size 432x288 with 1 Axes>"
      ]
     },
     "metadata": {
      "needs_background": "light"
     },
     "output_type": "display_data"
    }
   ],
   "source": [
    "sns.countplot(x='home_ownership', data = data_set[data_set['loan_status'] == 'Fully Paid'])"
   ]
  },
  {
   "cell_type": "markdown",
   "id": "f05b8ed8",
   "metadata": {},
   "source": [
    "From the above, we are not able to make any good inference as the trend seems same for Fully Paid and Charged Off loans against he home ownership data. "
   ]
  },
  {
   "cell_type": "markdown",
   "id": "8f3e7007",
   "metadata": {},
   "source": [
    "### Distribution of Loan Ratio\n",
    "\n",
    "Let us see how the Loan Ratio data is distributed across loans based on the status"
   ]
  },
  {
   "cell_type": "code",
   "execution_count": 215,
   "id": "13f6a465",
   "metadata": {},
   "outputs": [
    {
     "name": "stderr",
     "output_type": "stream",
     "text": [
      "/Users/I018289/opt/anaconda3/lib/python3.9/site-packages/seaborn/_decorators.py:36: FutureWarning: Pass the following variable as a keyword arg: x. From version 0.12, the only valid positional argument will be `data`, and passing other arguments without an explicit keyword will result in an error or misinterpretation.\n",
      "  warnings.warn(\n"
     ]
    },
    {
     "data": {
      "text/plain": [
       "<AxesSubplot:xlabel='loan_ratio'>"
      ]
     },
     "execution_count": 215,
     "metadata": {},
     "output_type": "execute_result"
    },
    {
     "data": {
      "image/png": "[encoded data removed]",
      "text/plain": [
       "<Figure size 432x288 with 1 Axes>"
      ]
     },
     "metadata": {
      "needs_background": "light"
     },
     "output_type": "display_data"
    }
   ],
   "source": [
    "sns.boxplot(data_set.loan_ratio[data_set['loan_status'] == 'Fully Paid'])"
   ]
  },
  {
   "cell_type": "code",
   "execution_count": 216,
   "id": "25d78d37",
   "metadata": {},
   "outputs": [
    {
     "name": "stderr",
     "output_type": "stream",
     "text": [
      "/Users/I018289/opt/anaconda3/lib/python3.9/site-packages/seaborn/_decorators.py:36: FutureWarning: Pass the following variable as a keyword arg: x. From version 0.12, the only valid positional argument will be `data`, and passing other arguments without an explicit keyword will result in an error or misinterpretation.\n",
      "  warnings.warn(\n"
     ]
    },
    {
     "data": {
      "text/plain": [
       "<AxesSubplot:xlabel='loan_ratio'>"
      ]
     },
     "execution_count": 216,
     "metadata": {},
     "output_type": "execute_result"
    },
    {
     "data": {
      "image/png": "[encoded data removed]",
      "text/plain": [
       "<Figure size 432x288 with 1 Axes>"
      ]
     },
     "metadata": {
      "needs_background": "light"
     },
     "output_type": "display_data"
    }
   ],
   "source": [
    "sns.boxplot(data_set.loan_ratio[data_set['loan_status'] == 'Charged Off'])"
   ]
  },
  {
   "cell_type": "markdown",
   "id": "2c8aee50",
   "metadata": {},
   "source": [
    "Similar to the home ownership data, even with loan ratio we are not able to infer something useful as the trend aganst home ration and loan status, stays same for both Charged off loans and Full Paid Loans"
   ]
  },
  {
   "cell_type": "markdown",
   "id": "e52fc456",
   "metadata": {},
   "source": [
    "### Distribution of Loan across Years\n",
    "\n",
    "Let us now look at how the loans are distributed across years"
   ]
  },
  {
   "cell_type": "code",
   "execution_count": 217,
   "id": "599f6adf",
   "metadata": {
    "scrolled": true
   },
   "outputs": [
    {
     "name": "stderr",
     "output_type": "stream",
     "text": [
      "/Users/I018289/opt/anaconda3/lib/python3.9/site-packages/seaborn/_decorators.py:36: FutureWarning: Pass the following variable as a keyword arg: x. From version 0.12, the only valid positional argument will be `data`, and passing other arguments without an explicit keyword will result in an error or misinterpretation.\n",
      "  warnings.warn(\n"
     ]
    },
    {
     "data": {
      "text/plain": [
       "<AxesSubplot:xlabel='issued_year'>"
      ]
     },
     "execution_count": 217,
     "metadata": {},
     "output_type": "execute_result"
    },
    {
     "data": {
      "image/png": "[encoded data removed]",
      "text/plain": [
       "<Figure size 432x288 with 1 Axes>"
      ]
     },
     "metadata": {
      "needs_background": "light"
     },
     "output_type": "display_data"
    }
   ],
   "source": [
    "sns.boxplot(data_set.issued_year)"
   ]
  },
  {
   "cell_type": "markdown",
   "id": "810ee4bd",
   "metadata": {},
   "source": [
    "Cleary there are some outliers which we need to exclude. "
   ]
  },
  {
   "cell_type": "code",
   "execution_count": 222,
   "id": "a6d3b072",
   "metadata": {},
   "outputs": [
    {
     "name": "stderr",
     "output_type": "stream",
     "text": [
      "/Users/I018289/opt/anaconda3/lib/python3.9/site-packages/seaborn/_decorators.py:36: FutureWarning: Pass the following variable as a keyword arg: x. From version 0.12, the only valid positional argument will be `data`, and passing other arguments without an explicit keyword will result in an error or misinterpretation.\n",
      "  warnings.warn(\n"
     ]
    },
    {
     "data": {
      "text/plain": [
       "<AxesSubplot:xlabel='issued_year'>"
      ]
     },
     "execution_count": 222,
     "metadata": {},
     "output_type": "execute_result"
    },
    {
     "data": {
      "image/png": "[encoded data removed]",
      "text/plain": [
       "<Figure size 432x288 with 1 Axes>"
      ]
     },
     "metadata": {
      "needs_background": "light"
     },
     "output_type": "display_data"
    }
   ],
   "source": [
    "issued_year_10_percentile = data_set['issued_year'].quantile(0.10)\n",
    "data_set_3 = data_set[data_set.issued_year >= issued_year_10_percentile]\n",
    "sns.set_context(\"notebook\", font_scale=1.25)\n",
    "sns.boxplot(data_set_3.issued_year)"
   ]
  },
  {
   "cell_type": "markdown",
   "id": "5e6d49c1",
   "metadata": {},
   "source": [
    "From the above graph we can conclude that most of the loans were issued during the year 2010 to 2011. "
   ]
  },
  {
   "cell_type": "code",
   "execution_count": null,
   "id": "d6967557",
   "metadata": {},
   "outputs": [],
   "source": []
  }
 ],
 "metadata": {
  "kernelspec": {
   "display_name": "Python 3 (ipykernel)",
   "language": "python",
   "name": "python3"
  },
  "language_info": {
   "codemirror_mode": {
    "name": "ipython",
    "version": 3
   },
   "file_extension": ".py",
   "mimetype": "text/x-python",
   "name": "python",
   "nbconvert_exporter": "python",
   "pygments_lexer": "ipython3",
   "version": "3.9.12"
  },
  "vscode": {
   "interpreter": {
    "hash": "6691edb8e8001bf0dfb629f898d9d48ba2e25b3b35fa7c8ee283df9260ad1542"
   }
  }
 },
 "nbformat": 4,
 "nbformat_minor": 5
}
